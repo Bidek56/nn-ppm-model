{
 "cells": [
  {
   "cell_type": "code",
   "execution_count": 1,
   "metadata": {},
   "outputs": [],
   "source": [
    "import pandas as pd\n",
    "import numpy as np\n",
    "import matplotlib.pyplot as plt\n",
    "from matplotlib.backends.backend_pdf import PdfPages\n",
    "import seaborn as sns\n",
    "import time\n",
    "import imp\n",
    "import os\n",
    "import os, os.path\n",
    "import datetime as dt\n",
    "import dateutil.parser as dp\n",
    "import dill\n",
    "\n",
    "%matplotlib inline"
   ]
  },
  {
   "cell_type": "code",
   "execution_count": 2,
   "metadata": {},
   "outputs": [
    {
     "name": "stdout",
     "output_type": "stream",
     "text": [
      "# of attr files:  130\n",
      "# of geo pct files:  130\n",
      "# of seller pct files:  130\n"
     ]
    }
   ],
   "source": [
    "# Create lists of data files (3 groups: regular attributes, GEO, and Seller composition)\n",
    "\n",
    "#data_directory = \"../30y fixed rate data/fnm/conforming\"\n",
    "data_directory = \"../30y fixed rate data/fnm/jumbos\"\n",
    "\n",
    "# pools attributes \n",
    "pools_attributes_files = list()\n",
    "\n",
    "for root, dirs, files in os.walk(data_directory):\n",
    "    for name in files:\n",
    "        file_name = os.path.join(root, name)\n",
    "        if 'pools attributes' in file_name:\n",
    "            pools_attributes_files.append(file_name)\n",
    "        \n",
    "# pools geographical composition        \n",
    "pools_geo_pct_files = list()\n",
    "\n",
    "for root, dirs, files in os.walk(data_directory):\n",
    "    for name in files:\n",
    "        file_name = os.path.join(root, name)\n",
    "        if 'geo pct' in file_name:\n",
    "            pools_geo_pct_files.append(os.path.join(root, name))  \n",
    "        \n",
    "# pools seller composition        \n",
    "pools_seller_pct_files = list()\n",
    "\n",
    "for root, dirs, files in os.walk(data_directory):\n",
    "    for name in files:\n",
    "        file_name = os.path.join(root, name)\n",
    "        if 'seller pct' in file_name:\n",
    "            pools_seller_pct_files.append(os.path.join(root, name)) \n",
    "        \n",
    "print(\"# of attr files: \",len(pools_attributes_files))\n",
    "print(\"# of geo pct files: \",len(pools_geo_pct_files))\n",
    "print(\"# of seller pct files: \",len(pools_seller_pct_files))"
   ]
  },
  {
   "cell_type": "code",
   "execution_count": 3,
   "metadata": {},
   "outputs": [],
   "source": [
    "# Read in all files with regular pool attributes\n",
    "attr_df = pd.DataFrame()\n",
    "for file in pools_attributes_files:\n",
    "    one_month_issue_pools = pd.read_csv(file)\n",
    "    if len(attr_df)==0:\n",
    "        attr_df = one_month_issue_pools\n",
    "    else:\n",
    "        if all(attr_df.columns == one_month_issue_pools.columns):\n",
    "            attr_df = pd.concat([attr_df,one_month_issue_pools])\n",
    "        else:\n",
    "            print(f'columns missmatch for {file}')\n",
    "\n",
    "    #print('Done loading ' + file)"
   ]
  },
  {
   "cell_type": "code",
   "execution_count": 4,
   "metadata": {},
   "outputs": [
    {
     "data": {
      "text/plain": [
       "Index(['poolno', 'asofdate', 'cusip', 'Prefix', 'spread', 'Cpr1', 'Cpr3',\n",
       "       'Cpr6', 'Cpr12', 'Cpr24', 'CprLife', 'SMM', 'DayCount', 'OBal', 'CBal',\n",
       "       'pbal', 'paydown', 'Prepay', 'factor', 'OCoupon', 'Coupon', 'OWac',\n",
       "       'Wac', 'Wam', 'Age', 'aols', 'waols', 'ONLoans', 'cnloans', 'PCNLoans',\n",
       "       'PPNLoans', 'OSato', 'CSato', 'oltv', 'cltv', '%cltv_80', '%cltv_105',\n",
       "       '%cltv_125', '%ccltv_80', '%ccltv_105', '%ccltv_125', 'fico',\n",
       "       '%FedHold', '%CMOHold', 'dti', 'codti', '%CashWindow', '%Majors',\n",
       "       'ocltv', 'ccltv', 'PurpPct_purchase', 'PurpPct_refi',\n",
       "       'PctChannel_Broker', 'PctChannel_Corr', 'PctChannel_Retail',\n",
       "       'OccPct_investor', 'OccPct_owner', 'PropUnitsPct_2-4', 'Label'],\n",
       "      dtype='object')"
      ]
     },
     "execution_count": 4,
     "metadata": {},
     "output_type": "execute_result"
    }
   ],
   "source": [
    "attr_df.columns"
   ]
  },
  {
   "cell_type": "code",
   "execution_count": 5,
   "metadata": {},
   "outputs": [
    {
     "name": "stdout",
     "output_type": "stream",
     "text": [
      "attr_df.shape = (225957, 59)\n"
     ]
    }
   ],
   "source": [
    "print(f'attr_df.shape = {attr_df.shape}')"
   ]
  },
  {
   "cell_type": "code",
   "execution_count": 6,
   "metadata": {},
   "outputs": [],
   "source": [
    "# Read in all files with pools GEO info\n",
    "geo_df = pd.DataFrame()\n",
    "for file in pools_geo_pct_files:\n",
    "    one_month_issue_pools = pd.read_csv(file)\n",
    "    if len(geo_df)==0:\n",
    "        geo_df = one_month_issue_pools\n",
    "    else:\n",
    "        if all(geo_df.columns == one_month_issue_pools.columns):\n",
    "            geo_df = pd.concat([geo_df,one_month_issue_pools])\n",
    "        else:\n",
    "            print(f'columns missmatch for {file}')\n",
    "\n",
    "    #print('Done loading ' + file)"
   ]
  },
  {
   "cell_type": "code",
   "execution_count": 7,
   "metadata": {},
   "outputs": [
    {
     "data": {
      "text/plain": [
       "Index(['poolno', 'asofdate', 'cusip', 'StatePct_AK', 'StatePct_AL',\n",
       "       'StatePct_AR', 'StatePct_AZ', 'StatePct_CA', 'StatePct_CO',\n",
       "       'StatePct_CT', 'StatePct_DC', 'StatePct_DE', 'StatePct_FL',\n",
       "       'StatePct_GA', 'StatePct_GU', 'StatePct_HI', 'StatePct_IA',\n",
       "       'StatePct_ID', 'StatePct_IL', 'StatePct_IN', 'StatePct_KS',\n",
       "       'StatePct_KY', 'StatePct_LA', 'StatePct_MA', 'StatePct_MD',\n",
       "       'StatePct_ME', 'StatePct_MI', 'StatePct_MN', 'StatePct_MO',\n",
       "       'StatePct_MS', 'StatePct_MT', 'StatePct_NC', 'StatePct_ND',\n",
       "       'StatePct_NE', 'StatePct_NH', 'StatePct_NJ', 'StatePct_NM',\n",
       "       'StatePct_NV', 'StatePct_NY', 'StatePct_OH', 'StatePct_OK',\n",
       "       'StatePct_OR', 'StatePct_PA', 'StatePct_PR', 'StatePct_RI',\n",
       "       'StatePct_SC', 'StatePct_SD', 'StatePct_TN', 'StatePct_TX',\n",
       "       'StatePct_UT', 'StatePct_VA', 'StatePct_VI', 'StatePct_VT',\n",
       "       'StatePct_WA', 'StatePct_WI', 'StatePct_WV', 'StatePct_WY', 'Label'],\n",
       "      dtype='object')"
      ]
     },
     "execution_count": 7,
     "metadata": {},
     "output_type": "execute_result"
    }
   ],
   "source": [
    "geo_df.columns"
   ]
  },
  {
   "cell_type": "code",
   "execution_count": 8,
   "metadata": {},
   "outputs": [
    {
     "name": "stdout",
     "output_type": "stream",
     "text": [
      "geo_df.shape = (225957, 58)\n"
     ]
    }
   ],
   "source": [
    "print(f'geo_df.shape = {geo_df.shape}')"
   ]
  },
  {
   "cell_type": "code",
   "execution_count": 9,
   "metadata": {},
   "outputs": [],
   "source": [
    "# Read in all files with pools Seller info\n",
    "seller_df = pd.DataFrame()\n",
    "for file in pools_seller_pct_files:\n",
    "    one_month_issue_pools = pd.read_csv(file)\n",
    "    if len(seller_df)==0:\n",
    "        seller_df = one_month_issue_pools\n",
    "    else:\n",
    "        if all(seller_df.columns == one_month_issue_pools.columns):\n",
    "            seller_df = pd.concat([seller_df,one_month_issue_pools])\n",
    "        else:\n",
    "            print(f'columns missmatch for {file}')\n",
    "    #print('Done loading ' + file)"
   ]
  },
  {
   "cell_type": "code",
   "execution_count": 10,
   "metadata": {},
   "outputs": [
    {
     "data": {
      "text/plain": [
       "Index(['poolno', 'asofdate', 'SellerPct_AMRHT', 'SellerPct_ALS',\n",
       "       'SellerPct_CAFULL', 'SellerPct_CNTL', 'SellerPct_CITIZ', 'SellerPct_53',\n",
       "       'SellerPct_FIR', 'SellerPct_FRDOM', 'SellerPct_GUILD',\n",
       "       'SellerPct_CHASE', 'SellerPct_LLSL', 'SellerPct_MATRX', 'SellerPct_NCM',\n",
       "       'SellerPct_NATIONST', 'SellerPct_NRESM', 'SellerPct_PNYMAC',\n",
       "       'SellerPct_PILOSI', 'SellerPct_QUICK', 'SellerPct_REG',\n",
       "       'SellerPct_RMSC', 'SellerPct_UNSHFI', 'SellerPct_WFHM', 'cusip',\n",
       "       'Prefix', 'Label'],\n",
       "      dtype='object')"
      ]
     },
     "execution_count": 10,
     "metadata": {},
     "output_type": "execute_result"
    }
   ],
   "source": [
    "seller_df.columns"
   ]
  },
  {
   "cell_type": "code",
   "execution_count": 11,
   "metadata": {},
   "outputs": [
    {
     "name": "stdout",
     "output_type": "stream",
     "text": [
      "seller_df.shape = (225957, 27)\n"
     ]
    }
   ],
   "source": [
    "print(f'seller_df.shape = {seller_df.shape}')"
   ]
  },
  {
   "cell_type": "code",
   "execution_count": 12,
   "metadata": {},
   "outputs": [
    {
     "name": "stdout",
     "output_type": "stream",
     "text": [
      "attr_df.shape = (225957, 59)\n"
     ]
    }
   ],
   "source": [
    "print(f'attr_df.shape = {attr_df.shape}')"
   ]
  },
  {
   "cell_type": "code",
   "execution_count": 13,
   "metadata": {},
   "outputs": [
    {
     "name": "stdout",
     "output_type": "stream",
     "text": [
      "geo_df.shape = (225957, 58)\n"
     ]
    }
   ],
   "source": [
    "print(f'geo_df.shape = {geo_df.shape}')"
   ]
  },
  {
   "cell_type": "code",
   "execution_count": 14,
   "metadata": {},
   "outputs": [
    {
     "name": "stdout",
     "output_type": "stream",
     "text": [
      "<class 'pandas.core.frame.DataFrame'>\n",
      "Int64Index: 225957 entries, 0 to 53\n",
      "Data columns (total 59 columns):\n",
      " #   Column             Non-Null Count   Dtype  \n",
      "---  ------             --------------   -----  \n",
      " 0   poolno             225957 non-null  object \n",
      " 1   asofdate           225957 non-null  int64  \n",
      " 2   cusip              225957 non-null  object \n",
      " 3   Prefix             225957 non-null  object \n",
      " 4   spread             225455 non-null  float64\n",
      " 5   Cpr1               225886 non-null  float64\n",
      " 6   Cpr3               219323 non-null  float64\n",
      " 7   Cpr6               209734 non-null  float64\n",
      " 8   Cpr12              191420 non-null  float64\n",
      " 9   Cpr24              158372 non-null  float64\n",
      " 10  CprLife            225455 non-null  float64\n",
      " 11  SMM                225945 non-null  float64\n",
      " 12  DayCount           225957 non-null  int64  \n",
      " 13  OBal               225957 non-null  int64  \n",
      " 14  CBal               225455 non-null  float64\n",
      " 15  pbal               225957 non-null  float64\n",
      " 16  paydown            225957 non-null  float64\n",
      " 17  Prepay             225945 non-null  float64\n",
      " 18  factor             225957 non-null  float64\n",
      " 19  OCoupon            225455 non-null  float64\n",
      " 20  Coupon             225455 non-null  float64\n",
      " 21  OWac               225455 non-null  float64\n",
      " 22  Wac                225957 non-null  float64\n",
      " 23  Wam                225957 non-null  int64  \n",
      " 24  Age                225957 non-null  int64  \n",
      " 25  aols               225347 non-null  float64\n",
      " 26  waols              225455 non-null  float64\n",
      " 27  ONLoans            225849 non-null  float64\n",
      " 28  cnloans            225347 non-null  float64\n",
      " 29  PCNLoans           225957 non-null  int64  \n",
      " 30  PPNLoans           69735 non-null   float64\n",
      " 31  OSato              225957 non-null  int64  \n",
      " 32  CSato              225455 non-null  float64\n",
      " 33  oltv               225256 non-null  float64\n",
      " 34  cltv               225426 non-null  float64\n",
      " 35  %cltv_80           225426 non-null  float64\n",
      " 36  %cltv_105          225426 non-null  float64\n",
      " 37  %cltv_125          225426 non-null  float64\n",
      " 38  %ccltv_80          181437 non-null  float64\n",
      " 39  %ccltv_105         181437 non-null  float64\n",
      " 40  %ccltv_125         181437 non-null  float64\n",
      " 41  fico               225256 non-null  float64\n",
      " 42  %FedHold           1 non-null       float64\n",
      " 43  %CMOHold           225455 non-null  float64\n",
      " 44  dti                88602 non-null   float64\n",
      " 45  codti              88602 non-null   float64\n",
      " 46  %CashWindow        225455 non-null  float64\n",
      " 47  %Majors            225455 non-null  float64\n",
      " 48  ocltv              174684 non-null  float64\n",
      " 49  ccltv              160108 non-null  float64\n",
      " 50  PurpPct_purchase   225455 non-null  float64\n",
      " 51  PurpPct_refi       225455 non-null  float64\n",
      " 52  PctChannel_Broker  189569 non-null  float64\n",
      " 53  PctChannel_Corr    189569 non-null  float64\n",
      " 54  PctChannel_Retail  189569 non-null  float64\n",
      " 55  OccPct_investor    225455 non-null  float64\n",
      " 56  OccPct_owner       225455 non-null  float64\n",
      " 57  PropUnitsPct_2-4   225455 non-null  float64\n",
      " 58  Label              225957 non-null  int64  \n",
      "dtypes: float64(48), int64(8), object(3)\n",
      "memory usage: 103.4+ MB\n"
     ]
    }
   ],
   "source": [
    "attr_df.info(verbose=True, null_counts=True)"
   ]
  },
  {
   "cell_type": "code",
   "execution_count": 15,
   "metadata": {},
   "outputs": [],
   "source": [
    "attr_df.drop(['Prefix','Cpr1','Cpr3','Cpr6','Cpr12','Cpr24','CprLife','pbal','paydown','Prepay','OCoupon','OWac','PCNLoans','PPNLoans','OSato','%cltv_80','%cltv_105','%cltv_125','%ccltv_80','%ccltv_105','%ccltv_125','%FedHold','%CMOHold','dti','codti'],axis=1,inplace=True)"
   ]
  },
  {
   "cell_type": "code",
   "execution_count": 16,
   "metadata": {},
   "outputs": [],
   "source": [
    "attr_df.dropna(subset=['CBal','SMM','Wac','aols','fico','OccPct_investor','OccPct_owner','PropUnitsPct_2-4'],inplace=True)"
   ]
  },
  {
   "cell_type": "code",
   "execution_count": 17,
   "metadata": {},
   "outputs": [],
   "source": [
    "attr_df.sort_values(by=['poolno','asofdate'],inplace=True)"
   ]
  },
  {
   "cell_type": "code",
   "execution_count": 18,
   "metadata": {},
   "outputs": [],
   "source": [
    "attr_df.fillna(method='ffill',inplace=True)"
   ]
  },
  {
   "cell_type": "code",
   "execution_count": 19,
   "metadata": {},
   "outputs": [],
   "source": [
    "attr_df['CBal'] = attr_df['CBal'].apply(lambda x: float(x))"
   ]
  },
  {
   "cell_type": "code",
   "execution_count": 20,
   "metadata": {},
   "outputs": [],
   "source": [
    "attr_df.rename(columns={'Label':'pool_issue_month'},inplace=True)"
   ]
  },
  {
   "cell_type": "code",
   "execution_count": 21,
   "metadata": {},
   "outputs": [
    {
     "name": "stdout",
     "output_type": "stream",
     "text": [
      "<class 'pandas.core.frame.DataFrame'>\n",
      "Int64Index: 225138 entries, 349 to 38\n",
      "Data columns (total 34 columns):\n",
      " #   Column             Non-Null Count   Dtype  \n",
      "---  ------             --------------   -----  \n",
      " 0   poolno             225138 non-null  object \n",
      " 1   asofdate           225138 non-null  int64  \n",
      " 2   cusip              225138 non-null  object \n",
      " 3   spread             225138 non-null  float64\n",
      " 4   SMM                225138 non-null  float64\n",
      " 5   DayCount           225138 non-null  int64  \n",
      " 6   OBal               225138 non-null  int64  \n",
      " 7   CBal               225138 non-null  float64\n",
      " 8   factor             225138 non-null  float64\n",
      " 9   Coupon             225138 non-null  float64\n",
      " 10  Wac                225138 non-null  float64\n",
      " 11  Wam                225138 non-null  int64  \n",
      " 12  Age                225138 non-null  int64  \n",
      " 13  aols               225138 non-null  float64\n",
      " 14  waols              225138 non-null  float64\n",
      " 15  ONLoans            225138 non-null  float64\n",
      " 16  cnloans            225138 non-null  float64\n",
      " 17  CSato              225138 non-null  float64\n",
      " 18  oltv               225138 non-null  float64\n",
      " 19  cltv               225138 non-null  float64\n",
      " 20  fico               225138 non-null  float64\n",
      " 21  %CashWindow        225138 non-null  float64\n",
      " 22  %Majors            225138 non-null  float64\n",
      " 23  ocltv              225138 non-null  float64\n",
      " 24  ccltv              225138 non-null  float64\n",
      " 25  PurpPct_purchase   225138 non-null  float64\n",
      " 26  PurpPct_refi       225138 non-null  float64\n",
      " 27  PctChannel_Broker  225099 non-null  float64\n",
      " 28  PctChannel_Corr    225099 non-null  float64\n",
      " 29  PctChannel_Retail  225099 non-null  float64\n",
      " 30  OccPct_investor    225138 non-null  float64\n",
      " 31  OccPct_owner       225138 non-null  float64\n",
      " 32  PropUnitsPct_2-4   225138 non-null  float64\n",
      " 33  pool_issue_month   225138 non-null  int64  \n",
      "dtypes: float64(26), int64(6), object(2)\n",
      "memory usage: 60.1+ MB\n"
     ]
    }
   ],
   "source": [
    "attr_df.info(verbose=True, null_counts=True)"
   ]
  },
  {
   "cell_type": "code",
   "execution_count": 22,
   "metadata": {},
   "outputs": [],
   "source": [
    "geo_df.drop('Label',axis=1,inplace=True)"
   ]
  },
  {
   "cell_type": "code",
   "execution_count": 23,
   "metadata": {},
   "outputs": [],
   "source": [
    "geo_df.sort_values(by=['poolno','asofdate'],inplace=True)"
   ]
  },
  {
   "cell_type": "code",
   "execution_count": 24,
   "metadata": {},
   "outputs": [],
   "source": [
    "geo_df.fillna(method='ffill',inplace=True)"
   ]
  },
  {
   "cell_type": "code",
   "execution_count": 25,
   "metadata": {},
   "outputs": [
    {
     "name": "stdout",
     "output_type": "stream",
     "text": [
      "<class 'pandas.core.frame.DataFrame'>\n",
      "Int64Index: 225957 entries, 348 to 38\n",
      "Data columns (total 57 columns):\n",
      " #   Column       Non-Null Count   Dtype  \n",
      "---  ------       --------------   -----  \n",
      " 0   poolno       225957 non-null  object \n",
      " 1   asofdate     225957 non-null  int64  \n",
      " 2   cusip        225957 non-null  object \n",
      " 3   StatePct_AK  225957 non-null  float64\n",
      " 4   StatePct_AL  225957 non-null  float64\n",
      " 5   StatePct_AR  225957 non-null  float64\n",
      " 6   StatePct_AZ  225957 non-null  float64\n",
      " 7   StatePct_CA  225957 non-null  float64\n",
      " 8   StatePct_CO  225957 non-null  float64\n",
      " 9   StatePct_CT  225957 non-null  float64\n",
      " 10  StatePct_DC  225957 non-null  float64\n",
      " 11  StatePct_DE  225957 non-null  float64\n",
      " 12  StatePct_FL  225957 non-null  float64\n",
      " 13  StatePct_GA  225957 non-null  float64\n",
      " 14  StatePct_GU  225957 non-null  float64\n",
      " 15  StatePct_HI  225957 non-null  float64\n",
      " 16  StatePct_IA  225957 non-null  float64\n",
      " 17  StatePct_ID  225957 non-null  float64\n",
      " 18  StatePct_IL  225957 non-null  float64\n",
      " 19  StatePct_IN  225957 non-null  float64\n",
      " 20  StatePct_KS  225957 non-null  float64\n",
      " 21  StatePct_KY  225957 non-null  float64\n",
      " 22  StatePct_LA  225957 non-null  float64\n",
      " 23  StatePct_MA  225957 non-null  float64\n",
      " 24  StatePct_MD  225957 non-null  float64\n",
      " 25  StatePct_ME  225957 non-null  float64\n",
      " 26  StatePct_MI  225957 non-null  float64\n",
      " 27  StatePct_MN  225957 non-null  float64\n",
      " 28  StatePct_MO  225957 non-null  float64\n",
      " 29  StatePct_MS  225957 non-null  float64\n",
      " 30  StatePct_MT  225957 non-null  float64\n",
      " 31  StatePct_NC  225957 non-null  float64\n",
      " 32  StatePct_ND  225957 non-null  float64\n",
      " 33  StatePct_NE  225957 non-null  float64\n",
      " 34  StatePct_NH  225957 non-null  float64\n",
      " 35  StatePct_NJ  225957 non-null  float64\n",
      " 36  StatePct_NM  225957 non-null  float64\n",
      " 37  StatePct_NV  225957 non-null  float64\n",
      " 38  StatePct_NY  225957 non-null  float64\n",
      " 39  StatePct_OH  225957 non-null  float64\n",
      " 40  StatePct_OK  225957 non-null  float64\n",
      " 41  StatePct_OR  225957 non-null  float64\n",
      " 42  StatePct_PA  225957 non-null  float64\n",
      " 43  StatePct_PR  225957 non-null  float64\n",
      " 44  StatePct_RI  225957 non-null  float64\n",
      " 45  StatePct_SC  225957 non-null  float64\n",
      " 46  StatePct_SD  225957 non-null  float64\n",
      " 47  StatePct_TN  225957 non-null  float64\n",
      " 48  StatePct_TX  225957 non-null  float64\n",
      " 49  StatePct_UT  225957 non-null  float64\n",
      " 50  StatePct_VA  225957 non-null  float64\n",
      " 51  StatePct_VI  225957 non-null  float64\n",
      " 52  StatePct_VT  225957 non-null  float64\n",
      " 53  StatePct_WA  225957 non-null  float64\n",
      " 54  StatePct_WI  225957 non-null  float64\n",
      " 55  StatePct_WV  225957 non-null  float64\n",
      " 56  StatePct_WY  225957 non-null  float64\n",
      "dtypes: float64(54), int64(1), object(2)\n",
      "memory usage: 100.0+ MB\n"
     ]
    }
   ],
   "source": [
    "geo_df.info(verbose=True, null_counts=True)"
   ]
  },
  {
   "cell_type": "code",
   "execution_count": 26,
   "metadata": {},
   "outputs": [],
   "source": [
    "geo_columns = ['StatePct_AK','StatePct_AL','StatePct_AR','StatePct_AZ','StatePct_CA','StatePct_CO','StatePct_CT',\n",
    "                'StatePct_DC','StatePct_DE','StatePct_FL','StatePct_GA','StatePct_GU','StatePct_HI','StatePct_IA',\n",
    "                'StatePct_ID','StatePct_IL','StatePct_IN','StatePct_KS','StatePct_KY','StatePct_LA','StatePct_MA',\n",
    "                'StatePct_MD','StatePct_ME','StatePct_MI','StatePct_MN','StatePct_MO','StatePct_MS','StatePct_MT',\n",
    "                'StatePct_NC','StatePct_ND','StatePct_NE','StatePct_NH','StatePct_NJ','StatePct_NM','StatePct_NV',\n",
    "                'StatePct_NY','StatePct_OH','StatePct_OK','StatePct_OR','StatePct_PA','StatePct_PR','StatePct_RI',\n",
    "                'StatePct_SC','StatePct_SD','StatePct_TN','StatePct_TX','StatePct_UT','StatePct_VA','StatePct_VI',\n",
    "                'StatePct_VT','StatePct_WA','StatePct_WI','StatePct_WV','StatePct_WY']"
   ]
  },
  {
   "cell_type": "code",
   "execution_count": 27,
   "metadata": {},
   "outputs": [],
   "source": [
    "def isfloat(value):\n",
    "  try:\n",
    "    float(value)\n",
    "    return True\n",
    "  except ValueError:\n",
    "    return False"
   ]
  },
  {
   "cell_type": "code",
   "execution_count": 28,
   "metadata": {},
   "outputs": [],
   "source": [
    "geo_df[geo_columns] = geo_df[geo_columns].applymap(lambda x: float(x) if isfloat(x) else np.nan)"
   ]
  },
  {
   "cell_type": "code",
   "execution_count": 29,
   "metadata": {},
   "outputs": [],
   "source": [
    "geo_df.fillna(0,inplace=True)"
   ]
  },
  {
   "cell_type": "code",
   "execution_count": 30,
   "metadata": {},
   "outputs": [
    {
     "name": "stdout",
     "output_type": "stream",
     "text": [
      "<class 'pandas.core.frame.DataFrame'>\n",
      "Int64Index: 225957 entries, 348 to 38\n",
      "Data columns (total 57 columns):\n",
      " #   Column       Non-Null Count   Dtype  \n",
      "---  ------       --------------   -----  \n",
      " 0   poolno       225957 non-null  object \n",
      " 1   asofdate     225957 non-null  int64  \n",
      " 2   cusip        225957 non-null  object \n",
      " 3   StatePct_AK  225957 non-null  float64\n",
      " 4   StatePct_AL  225957 non-null  float64\n",
      " 5   StatePct_AR  225957 non-null  float64\n",
      " 6   StatePct_AZ  225957 non-null  float64\n",
      " 7   StatePct_CA  225957 non-null  float64\n",
      " 8   StatePct_CO  225957 non-null  float64\n",
      " 9   StatePct_CT  225957 non-null  float64\n",
      " 10  StatePct_DC  225957 non-null  float64\n",
      " 11  StatePct_DE  225957 non-null  float64\n",
      " 12  StatePct_FL  225957 non-null  float64\n",
      " 13  StatePct_GA  225957 non-null  float64\n",
      " 14  StatePct_GU  225957 non-null  float64\n",
      " 15  StatePct_HI  225957 non-null  float64\n",
      " 16  StatePct_IA  225957 non-null  float64\n",
      " 17  StatePct_ID  225957 non-null  float64\n",
      " 18  StatePct_IL  225957 non-null  float64\n",
      " 19  StatePct_IN  225957 non-null  float64\n",
      " 20  StatePct_KS  225957 non-null  float64\n",
      " 21  StatePct_KY  225957 non-null  float64\n",
      " 22  StatePct_LA  225957 non-null  float64\n",
      " 23  StatePct_MA  225957 non-null  float64\n",
      " 24  StatePct_MD  225957 non-null  float64\n",
      " 25  StatePct_ME  225957 non-null  float64\n",
      " 26  StatePct_MI  225957 non-null  float64\n",
      " 27  StatePct_MN  225957 non-null  float64\n",
      " 28  StatePct_MO  225957 non-null  float64\n",
      " 29  StatePct_MS  225957 non-null  float64\n",
      " 30  StatePct_MT  225957 non-null  float64\n",
      " 31  StatePct_NC  225957 non-null  float64\n",
      " 32  StatePct_ND  225957 non-null  float64\n",
      " 33  StatePct_NE  225957 non-null  float64\n",
      " 34  StatePct_NH  225957 non-null  float64\n",
      " 35  StatePct_NJ  225957 non-null  float64\n",
      " 36  StatePct_NM  225957 non-null  float64\n",
      " 37  StatePct_NV  225957 non-null  float64\n",
      " 38  StatePct_NY  225957 non-null  float64\n",
      " 39  StatePct_OH  225957 non-null  float64\n",
      " 40  StatePct_OK  225957 non-null  float64\n",
      " 41  StatePct_OR  225957 non-null  float64\n",
      " 42  StatePct_PA  225957 non-null  float64\n",
      " 43  StatePct_PR  225957 non-null  float64\n",
      " 44  StatePct_RI  225957 non-null  float64\n",
      " 45  StatePct_SC  225957 non-null  float64\n",
      " 46  StatePct_SD  225957 non-null  float64\n",
      " 47  StatePct_TN  225957 non-null  float64\n",
      " 48  StatePct_TX  225957 non-null  float64\n",
      " 49  StatePct_UT  225957 non-null  float64\n",
      " 50  StatePct_VA  225957 non-null  float64\n",
      " 51  StatePct_VI  225957 non-null  float64\n",
      " 52  StatePct_VT  225957 non-null  float64\n",
      " 53  StatePct_WA  225957 non-null  float64\n",
      " 54  StatePct_WI  225957 non-null  float64\n",
      " 55  StatePct_WV  225957 non-null  float64\n",
      " 56  StatePct_WY  225957 non-null  float64\n",
      "dtypes: float64(54), int64(1), object(2)\n",
      "memory usage: 100.0+ MB\n"
     ]
    }
   ],
   "source": [
    "geo_df.info(verbose=True, null_counts=True)"
   ]
  },
  {
   "cell_type": "code",
   "execution_count": 31,
   "metadata": {},
   "outputs": [
    {
     "name": "stdout",
     "output_type": "stream",
     "text": [
      "<class 'pandas.core.frame.DataFrame'>\n",
      "Int64Index: 225957 entries, 0 to 53\n",
      "Data columns (total 27 columns):\n",
      " #   Column              Non-Null Count   Dtype  \n",
      "---  ------              --------------   -----  \n",
      " 0   poolno              225957 non-null  object \n",
      " 1   asofdate            225957 non-null  int64  \n",
      " 2   SellerPct_AMRHT     225455 non-null  float64\n",
      " 3   SellerPct_ALS       225455 non-null  float64\n",
      " 4   SellerPct_CAFULL    225455 non-null  float64\n",
      " 5   SellerPct_CNTL      225455 non-null  float64\n",
      " 6   SellerPct_CITIZ     225455 non-null  float64\n",
      " 7   SellerPct_53        225455 non-null  float64\n",
      " 8   SellerPct_FIR       225455 non-null  float64\n",
      " 9   SellerPct_FRDOM     225455 non-null  float64\n",
      " 10  SellerPct_GUILD     225455 non-null  float64\n",
      " 11  SellerPct_CHASE     225455 non-null  float64\n",
      " 12  SellerPct_LLSL      225455 non-null  float64\n",
      " 13  SellerPct_MATRX     225455 non-null  float64\n",
      " 14  SellerPct_NCM       225455 non-null  float64\n",
      " 15  SellerPct_NATIONST  225455 non-null  float64\n",
      " 16  SellerPct_NRESM     225455 non-null  float64\n",
      " 17  SellerPct_PNYMAC    225455 non-null  float64\n",
      " 18  SellerPct_PILOSI    225455 non-null  float64\n",
      " 19  SellerPct_QUICK     225455 non-null  float64\n",
      " 20  SellerPct_REG       225455 non-null  float64\n",
      " 21  SellerPct_RMSC      225455 non-null  float64\n",
      " 22  SellerPct_UNSHFI    225455 non-null  float64\n",
      " 23  SellerPct_WFHM      225455 non-null  float64\n",
      " 24  cusip               225957 non-null  object \n",
      " 25  Prefix              225957 non-null  object \n",
      " 26  Label               225957 non-null  int64  \n",
      "dtypes: float64(22), int64(2), object(3)\n",
      "memory usage: 48.3+ MB\n"
     ]
    }
   ],
   "source": [
    "seller_df.info(verbose=True, null_counts=True)"
   ]
  },
  {
   "cell_type": "code",
   "execution_count": 32,
   "metadata": {},
   "outputs": [],
   "source": [
    "seller_df.drop(['Label','Prefix'],axis=1,inplace=True)"
   ]
  },
  {
   "cell_type": "code",
   "execution_count": 33,
   "metadata": {},
   "outputs": [],
   "source": [
    "seller_df.sort_values(by=['poolno','asofdate'],inplace=True)"
   ]
  },
  {
   "cell_type": "code",
   "execution_count": 34,
   "metadata": {},
   "outputs": [],
   "source": [
    "seller_df.fillna(method='ffill',inplace=True)"
   ]
  },
  {
   "cell_type": "code",
   "execution_count": 35,
   "metadata": {},
   "outputs": [],
   "source": [
    "seller_columns = ['SellerPct_AMRHT','SellerPct_ALS','SellerPct_CAFULL','SellerPct_CNTL','SellerPct_CITIZ',\n",
    "                  'SellerPct_53','SellerPct_FIR','SellerPct_FRDOM','SellerPct_GUILD','SellerPct_CHASE',\n",
    "                  'SellerPct_LLSL','SellerPct_MATRX','SellerPct_NCM','SellerPct_NATIONST','SellerPct_NRESM',\n",
    "                  'SellerPct_PNYMAC','SellerPct_PILOSI','SellerPct_QUICK','SellerPct_REG','SellerPct_RMSC',\n",
    "                  'SellerPct_UNSHFI','SellerPct_WFHM']"
   ]
  },
  {
   "cell_type": "code",
   "execution_count": 36,
   "metadata": {},
   "outputs": [],
   "source": [
    "seller_df[seller_columns] = seller_df[seller_columns].applymap(lambda x: float(x) if isfloat(x) else np.nan)"
   ]
  },
  {
   "cell_type": "code",
   "execution_count": 37,
   "metadata": {},
   "outputs": [],
   "source": [
    "seller_df.fillna(0,inplace=True)"
   ]
  },
  {
   "cell_type": "code",
   "execution_count": 38,
   "metadata": {},
   "outputs": [
    {
     "name": "stdout",
     "output_type": "stream",
     "text": [
      "<class 'pandas.core.frame.DataFrame'>\n",
      "Int64Index: 225957 entries, 348 to 38\n",
      "Data columns (total 25 columns):\n",
      " #   Column              Non-Null Count   Dtype  \n",
      "---  ------              --------------   -----  \n",
      " 0   poolno              225957 non-null  object \n",
      " 1   asofdate            225957 non-null  int64  \n",
      " 2   SellerPct_AMRHT     225957 non-null  float64\n",
      " 3   SellerPct_ALS       225957 non-null  float64\n",
      " 4   SellerPct_CAFULL    225957 non-null  float64\n",
      " 5   SellerPct_CNTL      225957 non-null  float64\n",
      " 6   SellerPct_CITIZ     225957 non-null  float64\n",
      " 7   SellerPct_53        225957 non-null  float64\n",
      " 8   SellerPct_FIR       225957 non-null  float64\n",
      " 9   SellerPct_FRDOM     225957 non-null  float64\n",
      " 10  SellerPct_GUILD     225957 non-null  float64\n",
      " 11  SellerPct_CHASE     225957 non-null  float64\n",
      " 12  SellerPct_LLSL      225957 non-null  float64\n",
      " 13  SellerPct_MATRX     225957 non-null  float64\n",
      " 14  SellerPct_NCM       225957 non-null  float64\n",
      " 15  SellerPct_NATIONST  225957 non-null  float64\n",
      " 16  SellerPct_NRESM     225957 non-null  float64\n",
      " 17  SellerPct_PNYMAC    225957 non-null  float64\n",
      " 18  SellerPct_PILOSI    225957 non-null  float64\n",
      " 19  SellerPct_QUICK     225957 non-null  float64\n",
      " 20  SellerPct_REG       225957 non-null  float64\n",
      " 21  SellerPct_RMSC      225957 non-null  float64\n",
      " 22  SellerPct_UNSHFI    225957 non-null  float64\n",
      " 23  SellerPct_WFHM      225957 non-null  float64\n",
      " 24  cusip               225957 non-null  object \n",
      "dtypes: float64(22), int64(1), object(2)\n",
      "memory usage: 44.8+ MB\n"
     ]
    }
   ],
   "source": [
    "seller_df.info(verbose=True, null_counts=True)"
   ]
  },
  {
   "cell_type": "markdown",
   "metadata": {},
   "source": [
    "# Below we are combining the three DataFrames (attr_df, geo_df, seller_df) into a single DataFrame called df"
   ]
  },
  {
   "cell_type": "code",
   "execution_count": 39,
   "metadata": {},
   "outputs": [
    {
     "name": "stdout",
     "output_type": "stream",
     "text": [
      "attr_df.shape   = (225138, 34)\n",
      "geo_df.shape    = (225957, 57)\n",
      "seller_df.shape = (225957, 25)\n"
     ]
    }
   ],
   "source": [
    "print(f'attr_df.shape   = {attr_df.shape}')\n",
    "print(f'geo_df.shape    = {geo_df.shape}')\n",
    "print(f'seller_df.shape = {seller_df.shape}')"
   ]
  },
  {
   "cell_type": "code",
   "execution_count": 40,
   "metadata": {},
   "outputs": [],
   "source": [
    "geo_df.drop('poolno',axis=1,inplace=True)"
   ]
  },
  {
   "cell_type": "code",
   "execution_count": 41,
   "metadata": {},
   "outputs": [],
   "source": [
    "df = pd.merge(attr_df,geo_df,on=['cusip','asofdate'],how='left')"
   ]
  },
  {
   "cell_type": "code",
   "execution_count": 42,
   "metadata": {},
   "outputs": [
    {
     "name": "stdout",
     "output_type": "stream",
     "text": [
      "<class 'pandas.core.frame.DataFrame'>\n",
      "Int64Index: 225138 entries, 0 to 225137\n",
      "Data columns (total 88 columns):\n",
      " #   Column             Non-Null Count   Dtype  \n",
      "---  ------             --------------   -----  \n",
      " 0   poolno             225138 non-null  object \n",
      " 1   asofdate           225138 non-null  int64  \n",
      " 2   cusip              225138 non-null  object \n",
      " 3   spread             225138 non-null  float64\n",
      " 4   SMM                225138 non-null  float64\n",
      " 5   DayCount           225138 non-null  int64  \n",
      " 6   OBal               225138 non-null  int64  \n",
      " 7   CBal               225138 non-null  float64\n",
      " 8   factor             225138 non-null  float64\n",
      " 9   Coupon             225138 non-null  float64\n",
      " 10  Wac                225138 non-null  float64\n",
      " 11  Wam                225138 non-null  int64  \n",
      " 12  Age                225138 non-null  int64  \n",
      " 13  aols               225138 non-null  float64\n",
      " 14  waols              225138 non-null  float64\n",
      " 15  ONLoans            225138 non-null  float64\n",
      " 16  cnloans            225138 non-null  float64\n",
      " 17  CSato              225138 non-null  float64\n",
      " 18  oltv               225138 non-null  float64\n",
      " 19  cltv               225138 non-null  float64\n",
      " 20  fico               225138 non-null  float64\n",
      " 21  %CashWindow        225138 non-null  float64\n",
      " 22  %Majors            225138 non-null  float64\n",
      " 23  ocltv              225138 non-null  float64\n",
      " 24  ccltv              225138 non-null  float64\n",
      " 25  PurpPct_purchase   225138 non-null  float64\n",
      " 26  PurpPct_refi       225138 non-null  float64\n",
      " 27  PctChannel_Broker  225099 non-null  float64\n",
      " 28  PctChannel_Corr    225099 non-null  float64\n",
      " 29  PctChannel_Retail  225099 non-null  float64\n",
      " 30  OccPct_investor    225138 non-null  float64\n",
      " 31  OccPct_owner       225138 non-null  float64\n",
      " 32  PropUnitsPct_2-4   225138 non-null  float64\n",
      " 33  pool_issue_month   225138 non-null  int64  \n",
      " 34  StatePct_AK        225138 non-null  float64\n",
      " 35  StatePct_AL        225138 non-null  float64\n",
      " 36  StatePct_AR        225138 non-null  float64\n",
      " 37  StatePct_AZ        225138 non-null  float64\n",
      " 38  StatePct_CA        225138 non-null  float64\n",
      " 39  StatePct_CO        225138 non-null  float64\n",
      " 40  StatePct_CT        225138 non-null  float64\n",
      " 41  StatePct_DC        225138 non-null  float64\n",
      " 42  StatePct_DE        225138 non-null  float64\n",
      " 43  StatePct_FL        225138 non-null  float64\n",
      " 44  StatePct_GA        225138 non-null  float64\n",
      " 45  StatePct_GU        225138 non-null  float64\n",
      " 46  StatePct_HI        225138 non-null  float64\n",
      " 47  StatePct_IA        225138 non-null  float64\n",
      " 48  StatePct_ID        225138 non-null  float64\n",
      " 49  StatePct_IL        225138 non-null  float64\n",
      " 50  StatePct_IN        225138 non-null  float64\n",
      " 51  StatePct_KS        225138 non-null  float64\n",
      " 52  StatePct_KY        225138 non-null  float64\n",
      " 53  StatePct_LA        225138 non-null  float64\n",
      " 54  StatePct_MA        225138 non-null  float64\n",
      " 55  StatePct_MD        225138 non-null  float64\n",
      " 56  StatePct_ME        225138 non-null  float64\n",
      " 57  StatePct_MI        225138 non-null  float64\n",
      " 58  StatePct_MN        225138 non-null  float64\n",
      " 59  StatePct_MO        225138 non-null  float64\n",
      " 60  StatePct_MS        225138 non-null  float64\n",
      " 61  StatePct_MT        225138 non-null  float64\n",
      " 62  StatePct_NC        225138 non-null  float64\n",
      " 63  StatePct_ND        225138 non-null  float64\n",
      " 64  StatePct_NE        225138 non-null  float64\n",
      " 65  StatePct_NH        225138 non-null  float64\n",
      " 66  StatePct_NJ        225138 non-null  float64\n",
      " 67  StatePct_NM        225138 non-null  float64\n",
      " 68  StatePct_NV        225138 non-null  float64\n",
      " 69  StatePct_NY        225138 non-null  float64\n",
      " 70  StatePct_OH        225138 non-null  float64\n",
      " 71  StatePct_OK        225138 non-null  float64\n",
      " 72  StatePct_OR        225138 non-null  float64\n",
      " 73  StatePct_PA        225138 non-null  float64\n",
      " 74  StatePct_PR        225138 non-null  float64\n",
      " 75  StatePct_RI        225138 non-null  float64\n",
      " 76  StatePct_SC        225138 non-null  float64\n",
      " 77  StatePct_SD        225138 non-null  float64\n",
      " 78  StatePct_TN        225138 non-null  float64\n",
      " 79  StatePct_TX        225138 non-null  float64\n",
      " 80  StatePct_UT        225138 non-null  float64\n",
      " 81  StatePct_VA        225138 non-null  float64\n",
      " 82  StatePct_VI        225138 non-null  float64\n",
      " 83  StatePct_VT        225138 non-null  float64\n",
      " 84  StatePct_WA        225138 non-null  float64\n",
      " 85  StatePct_WI        225138 non-null  float64\n",
      " 86  StatePct_WV        225138 non-null  float64\n",
      " 87  StatePct_WY        225138 non-null  float64\n",
      "dtypes: float64(80), int64(6), object(2)\n",
      "memory usage: 152.9+ MB\n"
     ]
    }
   ],
   "source": [
    "df.info(verbose=True, null_counts=True)"
   ]
  },
  {
   "cell_type": "code",
   "execution_count": 43,
   "metadata": {},
   "outputs": [],
   "source": [
    "seller_df.drop('poolno',axis=1,inplace=True)"
   ]
  },
  {
   "cell_type": "code",
   "execution_count": 44,
   "metadata": {},
   "outputs": [],
   "source": [
    "df = pd.merge(df,seller_df,on=['cusip','asofdate'],how='left')"
   ]
  },
  {
   "cell_type": "code",
   "execution_count": 45,
   "metadata": {},
   "outputs": [],
   "source": [
    "df.fillna(0,inplace=True)"
   ]
  },
  {
   "cell_type": "code",
   "execution_count": 46,
   "metadata": {},
   "outputs": [
    {
     "name": "stdout",
     "output_type": "stream",
     "text": [
      "<class 'pandas.core.frame.DataFrame'>\n",
      "Int64Index: 225138 entries, 0 to 225137\n",
      "Data columns (total 110 columns):\n",
      " #   Column              Non-Null Count   Dtype  \n",
      "---  ------              --------------   -----  \n",
      " 0   poolno              225138 non-null  object \n",
      " 1   asofdate            225138 non-null  int64  \n",
      " 2   cusip               225138 non-null  object \n",
      " 3   spread              225138 non-null  float64\n",
      " 4   SMM                 225138 non-null  float64\n",
      " 5   DayCount            225138 non-null  int64  \n",
      " 6   OBal                225138 non-null  int64  \n",
      " 7   CBal                225138 non-null  float64\n",
      " 8   factor              225138 non-null  float64\n",
      " 9   Coupon              225138 non-null  float64\n",
      " 10  Wac                 225138 non-null  float64\n",
      " 11  Wam                 225138 non-null  int64  \n",
      " 12  Age                 225138 non-null  int64  \n",
      " 13  aols                225138 non-null  float64\n",
      " 14  waols               225138 non-null  float64\n",
      " 15  ONLoans             225138 non-null  float64\n",
      " 16  cnloans             225138 non-null  float64\n",
      " 17  CSato               225138 non-null  float64\n",
      " 18  oltv                225138 non-null  float64\n",
      " 19  cltv                225138 non-null  float64\n",
      " 20  fico                225138 non-null  float64\n",
      " 21  %CashWindow         225138 non-null  float64\n",
      " 22  %Majors             225138 non-null  float64\n",
      " 23  ocltv               225138 non-null  float64\n",
      " 24  ccltv               225138 non-null  float64\n",
      " 25  PurpPct_purchase    225138 non-null  float64\n",
      " 26  PurpPct_refi        225138 non-null  float64\n",
      " 27  PctChannel_Broker   225138 non-null  float64\n",
      " 28  PctChannel_Corr     225138 non-null  float64\n",
      " 29  PctChannel_Retail   225138 non-null  float64\n",
      " 30  OccPct_investor     225138 non-null  float64\n",
      " 31  OccPct_owner        225138 non-null  float64\n",
      " 32  PropUnitsPct_2-4    225138 non-null  float64\n",
      " 33  pool_issue_month    225138 non-null  int64  \n",
      " 34  StatePct_AK         225138 non-null  float64\n",
      " 35  StatePct_AL         225138 non-null  float64\n",
      " 36  StatePct_AR         225138 non-null  float64\n",
      " 37  StatePct_AZ         225138 non-null  float64\n",
      " 38  StatePct_CA         225138 non-null  float64\n",
      " 39  StatePct_CO         225138 non-null  float64\n",
      " 40  StatePct_CT         225138 non-null  float64\n",
      " 41  StatePct_DC         225138 non-null  float64\n",
      " 42  StatePct_DE         225138 non-null  float64\n",
      " 43  StatePct_FL         225138 non-null  float64\n",
      " 44  StatePct_GA         225138 non-null  float64\n",
      " 45  StatePct_GU         225138 non-null  float64\n",
      " 46  StatePct_HI         225138 non-null  float64\n",
      " 47  StatePct_IA         225138 non-null  float64\n",
      " 48  StatePct_ID         225138 non-null  float64\n",
      " 49  StatePct_IL         225138 non-null  float64\n",
      " 50  StatePct_IN         225138 non-null  float64\n",
      " 51  StatePct_KS         225138 non-null  float64\n",
      " 52  StatePct_KY         225138 non-null  float64\n",
      " 53  StatePct_LA         225138 non-null  float64\n",
      " 54  StatePct_MA         225138 non-null  float64\n",
      " 55  StatePct_MD         225138 non-null  float64\n",
      " 56  StatePct_ME         225138 non-null  float64\n",
      " 57  StatePct_MI         225138 non-null  float64\n",
      " 58  StatePct_MN         225138 non-null  float64\n",
      " 59  StatePct_MO         225138 non-null  float64\n",
      " 60  StatePct_MS         225138 non-null  float64\n",
      " 61  StatePct_MT         225138 non-null  float64\n",
      " 62  StatePct_NC         225138 non-null  float64\n",
      " 63  StatePct_ND         225138 non-null  float64\n",
      " 64  StatePct_NE         225138 non-null  float64\n",
      " 65  StatePct_NH         225138 non-null  float64\n",
      " 66  StatePct_NJ         225138 non-null  float64\n",
      " 67  StatePct_NM         225138 non-null  float64\n",
      " 68  StatePct_NV         225138 non-null  float64\n",
      " 69  StatePct_NY         225138 non-null  float64\n",
      " 70  StatePct_OH         225138 non-null  float64\n",
      " 71  StatePct_OK         225138 non-null  float64\n",
      " 72  StatePct_OR         225138 non-null  float64\n",
      " 73  StatePct_PA         225138 non-null  float64\n",
      " 74  StatePct_PR         225138 non-null  float64\n",
      " 75  StatePct_RI         225138 non-null  float64\n",
      " 76  StatePct_SC         225138 non-null  float64\n",
      " 77  StatePct_SD         225138 non-null  float64\n",
      " 78  StatePct_TN         225138 non-null  float64\n",
      " 79  StatePct_TX         225138 non-null  float64\n",
      " 80  StatePct_UT         225138 non-null  float64\n",
      " 81  StatePct_VA         225138 non-null  float64\n",
      " 82  StatePct_VI         225138 non-null  float64\n",
      " 83  StatePct_VT         225138 non-null  float64\n",
      " 84  StatePct_WA         225138 non-null  float64\n",
      " 85  StatePct_WI         225138 non-null  float64\n",
      " 86  StatePct_WV         225138 non-null  float64\n",
      " 87  StatePct_WY         225138 non-null  float64\n",
      " 88  SellerPct_AMRHT     225138 non-null  float64\n",
      " 89  SellerPct_ALS       225138 non-null  float64\n",
      " 90  SellerPct_CAFULL    225138 non-null  float64\n",
      " 91  SellerPct_CNTL      225138 non-null  float64\n",
      " 92  SellerPct_CITIZ     225138 non-null  float64\n",
      " 93  SellerPct_53        225138 non-null  float64\n",
      " 94  SellerPct_FIR       225138 non-null  float64\n",
      " 95  SellerPct_FRDOM     225138 non-null  float64\n",
      " 96  SellerPct_GUILD     225138 non-null  float64\n",
      " 97  SellerPct_CHASE     225138 non-null  float64\n",
      " 98  SellerPct_LLSL      225138 non-null  float64\n",
      " 99  SellerPct_MATRX     225138 non-null  float64\n",
      " 100 SellerPct_NCM       225138 non-null  float64\n",
      " 101 SellerPct_NATIONST  225138 non-null  float64\n",
      " 102 SellerPct_NRESM     225138 non-null  float64\n",
      " 103 SellerPct_PNYMAC    225138 non-null  float64\n",
      " 104 SellerPct_PILOSI    225138 non-null  float64\n",
      " 105 SellerPct_QUICK     225138 non-null  float64\n",
      " 106 SellerPct_REG       225138 non-null  float64\n",
      " 107 SellerPct_RMSC      225138 non-null  float64\n",
      " 108 SellerPct_UNSHFI    225138 non-null  float64\n",
      " 109 SellerPct_WFHM      225138 non-null  float64\n",
      "dtypes: float64(102), int64(6), object(2)\n",
      "memory usage: 190.7+ MB\n"
     ]
    }
   ],
   "source": [
    "df.info(verbose=True, null_counts=True)"
   ]
  },
  {
   "cell_type": "code",
   "execution_count": 47,
   "metadata": {},
   "outputs": [
    {
     "name": "stdout",
     "output_type": "stream",
     "text": [
      "df.shape = (225138, 110)\n"
     ]
    }
   ],
   "source": [
    "print(f'df.shape = {df.shape}')"
   ]
  },
  {
   "cell_type": "code",
   "execution_count": 48,
   "metadata": {},
   "outputs": [],
   "source": [
    "df.to_pickle('../jumbos_30yr.pkl')"
   ]
  },
  {
   "cell_type": "code",
   "execution_count": 50,
   "metadata": {},
   "outputs": [
    {
     "name": "stdout",
     "output_type": "stream",
     "text": [
      "df.shape = (225138, 110)\n"
     ]
    }
   ],
   "source": [
    "# Write df into a sequence of small files\n",
    "\n",
    "#out_dir = '../30y fixed rate data/fnm/conforming/clean data'\n",
    "out_dir = '../30y fixed rate data/fnm/jumbos/clean data'\n",
    "\n",
    "print(f'df.shape = {df.shape}')\n",
    "\n",
    "rows = df.shape[0]\n",
    "\n",
    "N = rows//30000 + 1\n",
    "\n",
    "for i in range(N):\n",
    "    df.iloc[i*30000:(i+1)*30000,].to_csv(f'{out_dir}/pools_part{i+1}.csv',index=False)"
   ]
  },
  {
   "cell_type": "code",
   "execution_count": null,
   "metadata": {},
   "outputs": [],
   "source": []
  }
 ],
 "metadata": {
  "kernelspec": {
   "display_name": "Python 3",
   "language": "python",
   "name": "python3"
  },
  "language_info": {
   "codemirror_mode": {
    "name": "ipython",
    "version": 3
   },
   "file_extension": ".py",
   "mimetype": "text/x-python",
   "name": "python",
   "nbconvert_exporter": "python",
   "pygments_lexer": "ipython3",
   "version": "3.7.6"
  }
 },
 "nbformat": 4,
 "nbformat_minor": 2
}
