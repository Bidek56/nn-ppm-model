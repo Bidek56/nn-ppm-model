{
 "cells": [
  {
   "cell_type": "code",
   "execution_count": 1,
   "metadata": {},
   "outputs": [],
   "source": [
    "import pandas as pd\n",
    "import numpy as np\n",
    "import matplotlib.pyplot as plt\n",
    "from matplotlib.backends.backend_pdf import PdfPages\n",
    "import seaborn as sns\n",
    "import time\n",
    "import imp\n",
    "import os\n",
    "import os, os.path\n",
    "import datetime as dt\n",
    "import dateutil.parser as dp\n",
    "import dill\n",
    "\n",
    "%matplotlib inline"
   ]
  },
  {
   "cell_type": "code",
   "execution_count": 2,
   "metadata": {},
   "outputs": [
    {
     "name": "stdout",
     "output_type": "stream",
     "text": [
      "# of attr files:  262\n",
      "# of geo pct files:  262\n",
      "# of seller pct files:  262\n"
     ]
    }
   ],
   "source": [
    "# Create lists of data files (3 groups: regular attributes, GEO, and Seller composition)\n",
    "\n",
    "data_directory = \"../data/fnm/30yr fixed\"\n",
    "\n",
    "# pools attributes \n",
    "pools_attributes_files = list()\n",
    "\n",
    "for root, dirs, files in os.walk(data_directory):\n",
    "    for name in files:\n",
    "        file_name = os.path.join(root, name)\n",
    "        if 'pools attributes' in file_name:\n",
    "            pools_attributes_files.append(file_name)\n",
    "        \n",
    "# pools geographical composition        \n",
    "pools_geo_pct_files = list()\n",
    "\n",
    "for root, dirs, files in os.walk(data_directory):\n",
    "    for name in files:\n",
    "        file_name = os.path.join(root, name)\n",
    "        if 'geo pct' in file_name:\n",
    "            pools_geo_pct_files.append(os.path.join(root, name))  \n",
    "        \n",
    "# pools seller composition        \n",
    "pools_seller_pct_files = list()\n",
    "\n",
    "for root, dirs, files in os.walk(data_directory):\n",
    "    for name in files:\n",
    "        file_name = os.path.join(root, name)\n",
    "        if 'seller pct' in file_name:\n",
    "            pools_seller_pct_files.append(os.path.join(root, name)) \n",
    "        \n",
    "print(\"# of attr files: \",len(pools_attributes_files))\n",
    "print(\"# of geo pct files: \",len(pools_geo_pct_files))\n",
    "print(\"# of seller pct files: \",len(pools_seller_pct_files))"
   ]
  },
  {
   "cell_type": "code",
   "execution_count": 4,
   "metadata": {},
   "outputs": [],
   "source": [
    "# Read in all files with regular pool attributes\n",
    "attr_df = pd.DataFrame()\n",
    "for file in pools_attributes_files:\n",
    "    one_month_issue_pools = pd.read_csv(file)\n",
    "    if len(attr_df)==0:\n",
    "        attr_df = one_month_issue_pools\n",
    "    else:\n",
    "        if all(attr_df.columns == one_month_issue_pools.columns):\n",
    "            attr_df = pd.concat([attr_df,one_month_issue_pools])\n",
    "        else:\n",
    "            print(f'columns missmatch for {file}')\n",
    "\n",
    "    #print('Done loading ' + file)"
   ]
  },
  {
   "cell_type": "code",
   "execution_count": 5,
   "metadata": {},
   "outputs": [
    {
     "data": {
      "text/plain": [
       "Index(['poolno', 'asofdate', 'cusip', 'Prefix', 'spread', 'Cpr1', 'Cpr3',\n",
       "       'Cpr6', 'Cpr12', 'SMM', 'DayCount', 'OBal', 'CBal', 'pbal', 'paydown',\n",
       "       'Prepay', 'factor', 'OCoupon', 'Coupon', 'OWac', 'Wac', 'Wam', 'Age',\n",
       "       'aols', 'waols', 'wtclnsz', 'wtolnsz', 'CLnsz', 'OLnsz', 'ONLoans',\n",
       "       'cnloans', 'PCNLoans', 'PPNLoans', 'OSato', 'CSato', 'oltv', 'cltv',\n",
       "       'ocltv', 'ccltv', 'fico', 'dti', 'codti', '%CashWindow', '%Majors',\n",
       "       'PurpPct_purchase', 'PurpPct_refi', 'PctChannel_Broker',\n",
       "       'PctChannel_Corr', 'PctChannel_Retail', 'OccPct_owner',\n",
       "       'OccPct_2ndHome', 'OccPct_investor', 'PropUnitsPct_2-4', 'burnout',\n",
       "       'wac_min', 'wac_qtl1', 'wac_qtl3', 'wac_max', 'ofico_min', 'ofico_qtl1',\n",
       "       'ofico_qtl3', 'ofico_max', 'oltv_min', 'oltv_qtl1', 'oltv_qtl3',\n",
       "       'oltv_max', 'aols_min', 'aols_qtl1', 'aols_qtl3', 'aols_max', 'hpa3m',\n",
       "       'hpa1', 'hpa5', 'hpalife', 'hpa3m_po', 'hpa1_po', 'hpa5_po',\n",
       "       'hpalife_po', 'Label'],\n",
       "      dtype='object')"
      ]
     },
     "execution_count": 5,
     "metadata": {},
     "output_type": "execute_result"
    }
   ],
   "source": [
    "attr_df.columns"
   ]
  },
  {
   "cell_type": "code",
   "execution_count": 6,
   "metadata": {},
   "outputs": [
    {
     "name": "stdout",
     "output_type": "stream",
     "text": [
      "attr_df.shape = (12070738, 79)\n"
     ]
    }
   ],
   "source": [
    "print(f'attr_df.shape = {attr_df.shape}')"
   ]
  },
  {
   "cell_type": "code",
   "execution_count": 7,
   "metadata": {},
   "outputs": [],
   "source": [
    "# Read in all files with pools GEO info\n",
    "geo_df = pd.DataFrame()\n",
    "for file in pools_geo_pct_files:\n",
    "    one_month_issue_pools = pd.read_csv(file)\n",
    "    if len(geo_df)==0:\n",
    "        geo_df = one_month_issue_pools\n",
    "    else:\n",
    "        if all(geo_df.columns == one_month_issue_pools.columns):\n",
    "            geo_df = pd.concat([geo_df,one_month_issue_pools])\n",
    "        else:\n",
    "            print(f'columns missmatch for {file}')\n",
    "\n",
    "    #print('Done loading ' + file)"
   ]
  },
  {
   "cell_type": "code",
   "execution_count": 8,
   "metadata": {},
   "outputs": [
    {
     "data": {
      "text/plain": [
       "Index(['poolno', 'asofdate', 'cusip', 'StatePct_AK', 'StatePct_AL',\n",
       "       'StatePct_AR', 'StatePct_AZ', 'StatePct_CA', 'StatePct_CO',\n",
       "       'StatePct_CT', 'StatePct_DC', 'StatePct_DE', 'StatePct_FL',\n",
       "       'StatePct_GA', 'StatePct_GU', 'StatePct_HI', 'StatePct_IA',\n",
       "       'StatePct_ID', 'StatePct_IL', 'StatePct_IN', 'StatePct_KS',\n",
       "       'StatePct_KY', 'StatePct_LA', 'StatePct_MA', 'StatePct_MD',\n",
       "       'StatePct_ME', 'StatePct_MI', 'StatePct_MN', 'StatePct_MO',\n",
       "       'StatePct_MS', 'StatePct_MT', 'StatePct_NC', 'StatePct_ND',\n",
       "       'StatePct_NE', 'StatePct_NH', 'StatePct_NJ', 'StatePct_NM',\n",
       "       'StatePct_NV', 'StatePct_NY', 'StatePct_OH', 'StatePct_OK',\n",
       "       'StatePct_OR', 'StatePct_PA', 'StatePct_PR', 'StatePct_RI',\n",
       "       'StatePct_SC', 'StatePct_SD', 'StatePct_TN', 'StatePct_TX',\n",
       "       'StatePct_UT', 'StatePct_VA', 'StatePct_VI', 'StatePct_VT',\n",
       "       'StatePct_WA', 'StatePct_WI', 'StatePct_WV', 'StatePct_WY', 'Label'],\n",
       "      dtype='object')"
      ]
     },
     "execution_count": 8,
     "metadata": {},
     "output_type": "execute_result"
    }
   ],
   "source": [
    "geo_df.columns"
   ]
  },
  {
   "cell_type": "code",
   "execution_count": 9,
   "metadata": {},
   "outputs": [
    {
     "name": "stdout",
     "output_type": "stream",
     "text": [
      "geo_df.shape = (11957560, 58)\n"
     ]
    }
   ],
   "source": [
    "print(f'geo_df.shape = {geo_df.shape}')"
   ]
  },
  {
   "cell_type": "code",
   "execution_count": 10,
   "metadata": {},
   "outputs": [],
   "source": [
    "# Read in all files with pools Seller info\n",
    "seller_df = pd.DataFrame()\n",
    "for file in pools_seller_pct_files:\n",
    "    one_month_issue_pools = pd.read_csv(file)\n",
    "    if len(seller_df)==0:\n",
    "        seller_df = one_month_issue_pools\n",
    "    else:\n",
    "        if all(seller_df.columns == one_month_issue_pools.columns):\n",
    "            seller_df = pd.concat([seller_df,one_month_issue_pools])\n",
    "        else:\n",
    "            print(f'columns missmatch for {file}')\n",
    "    #print('Done loading ' + file)"
   ]
  },
  {
   "cell_type": "code",
   "execution_count": 11,
   "metadata": {},
   "outputs": [
    {
     "data": {
      "text/plain": [
       "Index(['poolno', 'asofdate', 'SellerPct_AMRHT', 'SellerPct_ALS',\n",
       "       'SellerPct_CAFULL', 'SellerPct_CNTL', 'SellerPct_CITIZ', 'SellerPct_53',\n",
       "       'SellerPct_FIR', 'SellerPct_FRDOM', 'SellerPct_GUILD',\n",
       "       'SellerPct_CHASE', 'SellerPct_LLSL', 'SellerPct_MATRX', 'SellerPct_NCM',\n",
       "       'SellerPct_NATIONST', 'SellerPct_NRESM', 'SellerPct_PNYMAC',\n",
       "       'SellerPct_PILOSI', 'SellerPct_QUICK', 'SellerPct_REG',\n",
       "       'SellerPct_RMSC', 'SellerPct_UNSHFI', 'SellerPct_WFHM', 'cusip',\n",
       "       'Prefix', 'Label'],\n",
       "      dtype='object')"
      ]
     },
     "execution_count": 11,
     "metadata": {},
     "output_type": "execute_result"
    }
   ],
   "source": [
    "seller_df.columns"
   ]
  },
  {
   "cell_type": "code",
   "execution_count": 12,
   "metadata": {},
   "outputs": [
    {
     "name": "stdout",
     "output_type": "stream",
     "text": [
      "seller_df.shape = (7443443, 27)\n"
     ]
    }
   ],
   "source": [
    "print(f'seller_df.shape = {seller_df.shape}')"
   ]
  },
  {
   "cell_type": "markdown",
   "metadata": {},
   "source": [
    "# Clean data and fill NAs"
   ]
  },
  {
   "cell_type": "markdown",
   "metadata": {},
   "source": [
    "### pool attributes"
   ]
  },
  {
   "cell_type": "code",
   "execution_count": 15,
   "metadata": {},
   "outputs": [
    {
     "name": "stdout",
     "output_type": "stream",
     "text": [
      "<class 'pandas.core.frame.DataFrame'>\n",
      "Int64Index: 12070738 entries, 0 to 2919\n",
      "Data columns (total 79 columns):\n",
      " #   Column             Non-Null Count     Dtype  \n",
      "---  ------             --------------     -----  \n",
      " 0   poolno             12070738 non-null  object \n",
      " 1   asofdate           12070738 non-null  int64  \n",
      " 2   cusip              12070738 non-null  object \n",
      " 3   Prefix             12070738 non-null  object \n",
      " 4   spread             12066040 non-null  float64\n",
      " 5   Cpr1               12066612 non-null  float64\n",
      " 6   Cpr3               11709965 non-null  float64\n",
      " 7   Cpr6               11182949 non-null  float64\n",
      " 8   Cpr12              10171574 non-null  float64\n",
      " 9   SMM                12069813 non-null  float64\n",
      " 10  DayCount           12070738 non-null  int64  \n",
      " 11  OBal               12070738 non-null  int64  \n",
      " 12  CBal               12066040 non-null  float64\n",
      " 13  pbal               12070738 non-null  float64\n",
      " 14  paydown            12070738 non-null  float64\n",
      " 15  Prepay             12069813 non-null  float64\n",
      " 16  factor             12070738 non-null  float64\n",
      " 17  OCoupon            12066040 non-null  float64\n",
      " 18  Coupon             12066040 non-null  float64\n",
      " 19  OWac               12066040 non-null  float64\n",
      " 20  Wac                12070738 non-null  float64\n",
      " 21  Wam                12070738 non-null  int64  \n",
      " 22  Age                12070738 non-null  int64  \n",
      " 23  aols               12059441 non-null  float64\n",
      " 24  waols              12066040 non-null  float64\n",
      " 25  wtclnsz            12066040 non-null  float64\n",
      " 26  wtolnsz            12070738 non-null  float64\n",
      " 27  CLnsz              12059441 non-null  float64\n",
      " 28  OLnsz              12064139 non-null  float64\n",
      " 29  ONLoans            12064139 non-null  float64\n",
      " 30  cnloans            12059441 non-null  float64\n",
      " 31  PCNLoans           12070738 non-null  int64  \n",
      " 32  PPNLoans           3074442 non-null   float64\n",
      " 33  OSato              12070738 non-null  int64  \n",
      " 34  CSato              12066040 non-null  float64\n",
      " 35  oltv               12056475 non-null  float64\n",
      " 36  cltv               12060424 non-null  float64\n",
      " 37  ocltv              8053346 non-null   float64\n",
      " 38  ccltv              7333496 non-null   float64\n",
      " 39  fico               12045027 non-null  float64\n",
      " 40  dti                7479305 non-null   float64\n",
      " 41  codti              7479305 non-null   float64\n",
      " 42  %CashWindow        12066040 non-null  float64\n",
      " 43  %Majors            12066040 non-null  float64\n",
      " 44  PurpPct_purchase   12066040 non-null  float64\n",
      " 45  PurpPct_refi       12066040 non-null  float64\n",
      " 46  PctChannel_Broker  10995862 non-null  float64\n",
      " 47  PctChannel_Corr    10995862 non-null  float64\n",
      " 48  PctChannel_Retail  10995862 non-null  float64\n",
      " 49  OccPct_owner       12066040 non-null  float64\n",
      " 50  OccPct_2ndHome     12066040 non-null  float64\n",
      " 51  OccPct_investor    12066040 non-null  float64\n",
      " 52  PropUnitsPct_2-4   12066040 non-null  float64\n",
      " 53  burnout            12066040 non-null  float64\n",
      " 54  wac_min            12066038 non-null  float64\n",
      " 55  wac_qtl1           12066038 non-null  float64\n",
      " 56  wac_qtl3           12066038 non-null  float64\n",
      " 57  wac_max            12066038 non-null  float64\n",
      " 58  ofico_min          12040635 non-null  float64\n",
      " 59  ofico_qtl1         12040635 non-null  float64\n",
      " 60  ofico_qtl3         12040635 non-null  float64\n",
      " 61  ofico_max          12040635 non-null  float64\n",
      " 62  oltv_min           12066040 non-null  float64\n",
      " 63  oltv_qtl1          12066040 non-null  float64\n",
      " 64  oltv_qtl3          12066040 non-null  float64\n",
      " 65  oltv_max           12066040 non-null  float64\n",
      " 66  aols_min           12066038 non-null  float64\n",
      " 67  aols_qtl1          12066038 non-null  float64\n",
      " 68  aols_qtl3          12066038 non-null  float64\n",
      " 69  aols_max           12066038 non-null  float64\n",
      " 70  hpa3m              12066040 non-null  float64\n",
      " 71  hpa1               12066040 non-null  float64\n",
      " 72  hpa5               12066040 non-null  float64\n",
      " 73  hpalife            12066040 non-null  float64\n",
      " 74  hpa3m_po           12066040 non-null  float64\n",
      " 75  hpa1_po            12066040 non-null  float64\n",
      " 76  hpa5_po            12066040 non-null  float64\n",
      " 77  hpalife_po         12066040 non-null  float64\n",
      " 78  Label              12070738 non-null  object \n",
      "dtypes: float64(68), int64(7), object(4)\n",
      "memory usage: 7.2+ GB\n"
     ]
    }
   ],
   "source": [
    "attr_df.info(verbose=True, null_counts=True)"
   ]
  },
  {
   "cell_type": "code",
   "execution_count": 16,
   "metadata": {},
   "outputs": [
    {
     "data": {
      "text/plain": [
       "Index(['poolno', 'asofdate', 'cusip', 'Prefix', 'spread', 'Cpr1', 'Cpr3',\n",
       "       'Cpr6', 'Cpr12', 'SMM', 'DayCount', 'OBal', 'CBal', 'pbal', 'paydown',\n",
       "       'Prepay', 'factor', 'OCoupon', 'Coupon', 'OWac', 'Wac', 'Wam', 'Age',\n",
       "       'aols', 'waols', 'wtclnsz', 'wtolnsz', 'CLnsz', 'OLnsz', 'ONLoans',\n",
       "       'cnloans', 'PCNLoans', 'PPNLoans', 'OSato', 'CSato', 'oltv', 'cltv',\n",
       "       'ocltv', 'ccltv', 'fico', 'dti', 'codti', '%CashWindow', '%Majors',\n",
       "       'PurpPct_purchase', 'PurpPct_refi', 'PctChannel_Broker',\n",
       "       'PctChannel_Corr', 'PctChannel_Retail', 'OccPct_owner',\n",
       "       'OccPct_2ndHome', 'OccPct_investor', 'PropUnitsPct_2-4', 'burnout',\n",
       "       'wac_min', 'wac_qtl1', 'wac_qtl3', 'wac_max', 'ofico_min', 'ofico_qtl1',\n",
       "       'ofico_qtl3', 'ofico_max', 'oltv_min', 'oltv_qtl1', 'oltv_qtl3',\n",
       "       'oltv_max', 'aols_min', 'aols_qtl1', 'aols_qtl3', 'aols_max', 'hpa3m',\n",
       "       'hpa1', 'hpa5', 'hpalife', 'hpa3m_po', 'hpa1_po', 'hpa5_po',\n",
       "       'hpalife_po', 'Label'],\n",
       "      dtype='object')"
      ]
     },
     "execution_count": 16,
     "metadata": {},
     "output_type": "execute_result"
    }
   ],
   "source": [
    "attr_df.columns"
   ]
  },
  {
   "cell_type": "code",
   "execution_count": null,
   "metadata": {},
   "outputs": [],
   "source": [
    "'Cpr1', 'Cpr3',\n",
    "       'Cpr6', 'Cpr12',\n",
    "'pbal', 'paydown',\n",
    "       'Prepay',\n",
    "'OCoupon',\n",
    "'OWac',\n",
    "'PCNLoans', 'PPNLoans',\n",
    "'OSato',\n",
    "'dti', 'codti',\n",
    "\n"
   ]
  },
  {
   "cell_type": "code",
   "execution_count": null,
   "metadata": {},
   "outputs": [],
   "source": [
    "# attr_df.drop(['Cpr1','Cpr3','Cpr6','Cpr12','Cpr24','CprLife','pbal','paydown','Prepay','OCoupon','OWac',\n",
    "#               'PCNLoans','PPNLoans','OSato','%cltv_80','%cltv_105','%cltv_125','%ccltv_80','%ccltv_105','%ccltv_125',\n",
    "#               '%FedHold','%CMOHold','dti','codti'],axis=1,inplace=True)"
   ]
  },
  {
   "cell_type": "code",
   "execution_count": null,
   "metadata": {},
   "outputs": [],
   "source": [
    "attr_df.dropna(subset=['CBal','SMM','Wac','aols','fico','OccPct_investor','OccPct_owner','PropUnitsPct_2-4'],inplace=True)"
   ]
  },
  {
   "cell_type": "code",
   "execution_count": null,
   "metadata": {},
   "outputs": [],
   "source": [
    "attr_df.sort_values(by=['poolno','asofdate'],inplace=True)"
   ]
  },
  {
   "cell_type": "code",
   "execution_count": null,
   "metadata": {},
   "outputs": [],
   "source": [
    "attr_df.fillna(method='ffill',inplace=True)"
   ]
  },
  {
   "cell_type": "code",
   "execution_count": null,
   "metadata": {},
   "outputs": [],
   "source": [
    "attr_df['CBal'] = attr_df['CBal'].apply(lambda x: float(x))"
   ]
  },
  {
   "cell_type": "code",
   "execution_count": null,
   "metadata": {},
   "outputs": [],
   "source": [
    "attr_df.rename(columns={'Label':'pool_issue_month'},inplace=True)"
   ]
  },
  {
   "cell_type": "code",
   "execution_count": null,
   "metadata": {},
   "outputs": [],
   "source": [
    "attr_df.info(verbose=True, null_counts=True)"
   ]
  },
  {
   "cell_type": "code",
   "execution_count": null,
   "metadata": {},
   "outputs": [],
   "source": [
    "geo_df.drop('Label',axis=1,inplace=True)"
   ]
  },
  {
   "cell_type": "code",
   "execution_count": null,
   "metadata": {},
   "outputs": [],
   "source": [
    "geo_df.sort_values(by=['poolno','asofdate'],inplace=True)"
   ]
  },
  {
   "cell_type": "code",
   "execution_count": null,
   "metadata": {},
   "outputs": [],
   "source": [
    "geo_df.fillna(method='ffill',inplace=True)"
   ]
  },
  {
   "cell_type": "code",
   "execution_count": null,
   "metadata": {},
   "outputs": [],
   "source": [
    "geo_df.info(verbose=True, null_counts=True)"
   ]
  },
  {
   "cell_type": "code",
   "execution_count": null,
   "metadata": {},
   "outputs": [],
   "source": [
    "geo_columns = ['StatePct_AK','StatePct_AL','StatePct_AR','StatePct_AZ','StatePct_CA','StatePct_CO','StatePct_CT',\n",
    "                'StatePct_DC','StatePct_DE','StatePct_FL','StatePct_GA','StatePct_GU','StatePct_HI','StatePct_IA',\n",
    "                'StatePct_ID','StatePct_IL','StatePct_IN','StatePct_KS','StatePct_KY','StatePct_LA','StatePct_MA',\n",
    "                'StatePct_MD','StatePct_ME','StatePct_MI','StatePct_MN','StatePct_MO','StatePct_MS','StatePct_MT',\n",
    "                'StatePct_NC','StatePct_ND','StatePct_NE','StatePct_NH','StatePct_NJ','StatePct_NM','StatePct_NV',\n",
    "                'StatePct_NY','StatePct_OH','StatePct_OK','StatePct_OR','StatePct_PA','StatePct_PR','StatePct_RI',\n",
    "                'StatePct_SC','StatePct_SD','StatePct_TN','StatePct_TX','StatePct_UT','StatePct_VA','StatePct_VI',\n",
    "                'StatePct_VT','StatePct_WA','StatePct_WI','StatePct_WV','StatePct_WY']"
   ]
  },
  {
   "cell_type": "code",
   "execution_count": null,
   "metadata": {},
   "outputs": [],
   "source": [
    "def isfloat(value):\n",
    "  try:\n",
    "    float(value)\n",
    "    return True\n",
    "  except ValueError:\n",
    "    return False"
   ]
  },
  {
   "cell_type": "code",
   "execution_count": null,
   "metadata": {},
   "outputs": [],
   "source": [
    "geo_df[geo_columns] = geo_df[geo_columns].applymap(lambda x: float(x) if isfloat(x) else np.nan)"
   ]
  },
  {
   "cell_type": "code",
   "execution_count": null,
   "metadata": {},
   "outputs": [],
   "source": [
    "geo_df.fillna(0,inplace=True)"
   ]
  },
  {
   "cell_type": "code",
   "execution_count": null,
   "metadata": {},
   "outputs": [],
   "source": [
    "geo_df.info(verbose=True, null_counts=True)"
   ]
  },
  {
   "cell_type": "code",
   "execution_count": null,
   "metadata": {},
   "outputs": [],
   "source": [
    "seller_df.info(verbose=True, null_counts=True)"
   ]
  },
  {
   "cell_type": "code",
   "execution_count": null,
   "metadata": {},
   "outputs": [],
   "source": [
    "seller_df.drop(['Label','Prefix'],axis=1,inplace=True)"
   ]
  },
  {
   "cell_type": "code",
   "execution_count": null,
   "metadata": {},
   "outputs": [],
   "source": [
    "seller_df.sort_values(by=['poolno','asofdate'],inplace=True)"
   ]
  },
  {
   "cell_type": "code",
   "execution_count": null,
   "metadata": {},
   "outputs": [],
   "source": [
    "seller_df.fillna(method='ffill',inplace=True)"
   ]
  },
  {
   "cell_type": "code",
   "execution_count": null,
   "metadata": {},
   "outputs": [],
   "source": [
    "seller_columns = ['SellerPct_AMRHT','SellerPct_ALS','SellerPct_CAFULL','SellerPct_CNTL','SellerPct_CITIZ',\n",
    "                  'SellerPct_53','SellerPct_FIR','SellerPct_FRDOM','SellerPct_GUILD','SellerPct_CHASE',\n",
    "                  'SellerPct_LLSL','SellerPct_MATRX','SellerPct_NCM','SellerPct_NATIONST','SellerPct_NRESM',\n",
    "                  'SellerPct_PNYMAC','SellerPct_PILOSI','SellerPct_QUICK','SellerPct_REG','SellerPct_RMSC',\n",
    "                  'SellerPct_UNSHFI','SellerPct_WFHM']"
   ]
  },
  {
   "cell_type": "code",
   "execution_count": null,
   "metadata": {},
   "outputs": [],
   "source": [
    "seller_df[seller_columns] = seller_df[seller_columns].applymap(lambda x: float(x) if isfloat(x) else np.nan)"
   ]
  },
  {
   "cell_type": "code",
   "execution_count": null,
   "metadata": {},
   "outputs": [],
   "source": [
    "seller_df.fillna(0,inplace=True)"
   ]
  },
  {
   "cell_type": "code",
   "execution_count": null,
   "metadata": {},
   "outputs": [],
   "source": [
    "seller_df.info(verbose=True, null_counts=True)"
   ]
  },
  {
   "cell_type": "markdown",
   "metadata": {},
   "source": [
    "# Below we are combining the three DataFrames (attr_df, geo_df, seller_df) into a single DataFrame called df"
   ]
  },
  {
   "cell_type": "code",
   "execution_count": null,
   "metadata": {},
   "outputs": [],
   "source": [
    "print(f'attr_df.shape   = {attr_df.shape}')\n",
    "print(f'geo_df.shape    = {geo_df.shape}')\n",
    "print(f'seller_df.shape = {seller_df.shape}')"
   ]
  },
  {
   "cell_type": "code",
   "execution_count": null,
   "metadata": {},
   "outputs": [],
   "source": [
    "geo_df.drop('poolno',axis=1,inplace=True)"
   ]
  },
  {
   "cell_type": "code",
   "execution_count": null,
   "metadata": {},
   "outputs": [],
   "source": [
    "df = pd.merge(attr_df,geo_df,on=['cusip','asofdate'],how='left')"
   ]
  },
  {
   "cell_type": "code",
   "execution_count": null,
   "metadata": {},
   "outputs": [],
   "source": [
    "df.info(verbose=True, null_counts=True)"
   ]
  },
  {
   "cell_type": "code",
   "execution_count": null,
   "metadata": {},
   "outputs": [],
   "source": [
    "seller_df.drop('poolno',axis=1,inplace=True)"
   ]
  },
  {
   "cell_type": "code",
   "execution_count": null,
   "metadata": {},
   "outputs": [],
   "source": [
    "df = pd.merge(df,seller_df,on=['cusip','asofdate'],how='left')"
   ]
  },
  {
   "cell_type": "code",
   "execution_count": null,
   "metadata": {},
   "outputs": [],
   "source": [
    "df.fillna(0,inplace=True)"
   ]
  },
  {
   "cell_type": "code",
   "execution_count": null,
   "metadata": {},
   "outputs": [],
   "source": [
    "df.info(verbose=True, null_counts=True)"
   ]
  },
  {
   "cell_type": "code",
   "execution_count": null,
   "metadata": {},
   "outputs": [],
   "source": [
    "print(f'df.shape = {df.shape}')"
   ]
  },
  {
   "cell_type": "code",
   "execution_count": null,
   "metadata": {},
   "outputs": [],
   "source": [
    "df.to_pickle('../jumbos_30yr.pkl')"
   ]
  },
  {
   "cell_type": "code",
   "execution_count": null,
   "metadata": {},
   "outputs": [],
   "source": [
    "# Write df into a sequence of small files\n",
    "\n",
    "#out_dir = '../30y fixed rate data/fnm/conforming/clean data'\n",
    "out_dir = '../30y fixed rate data/fnm/jumbos/clean data'\n",
    "\n",
    "print(f'df.shape = {df.shape}')\n",
    "\n",
    "rows = df.shape[0]\n",
    "\n",
    "N = rows//30000 + 1\n",
    "\n",
    "for i in range(N):\n",
    "    df.iloc[i*30000:(i+1)*30000,].to_csv(f'{out_dir}/pools_part{i+1}.csv',index=False)"
   ]
  },
  {
   "cell_type": "code",
   "execution_count": null,
   "metadata": {},
   "outputs": [],
   "source": []
  }
 ],
 "metadata": {
  "kernelspec": {
   "display_name": "Python 3",
   "language": "python",
   "name": "python3"
  },
  "language_info": {
   "codemirror_mode": {
    "name": "ipython",
    "version": 3
   },
   "file_extension": ".py",
   "mimetype": "text/x-python",
   "name": "python",
   "nbconvert_exporter": "python",
   "pygments_lexer": "ipython3",
   "version": "3.7.6"
  }
 },
 "nbformat": 4,
 "nbformat_minor": 2
}
