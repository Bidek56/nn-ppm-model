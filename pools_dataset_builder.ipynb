{
 "cells": [
  {
   "cell_type": "code",
   "execution_count": 1,
   "metadata": {},
   "outputs": [],
   "source": [
    "import pandas as pd\n",
    "import numpy as np\n",
    "import matplotlib.pyplot as plt\n",
    "from matplotlib.backends.backend_pdf import PdfPages\n",
    "import seaborn as sns\n",
    "import time\n",
    "import imp\n",
    "import os\n",
    "import os, os.path\n",
    "import datetime as dt\n",
    "import dateutil.parser as dp\n",
    "import dill\n",
    "\n",
    "%matplotlib inline"
   ]
  },
  {
   "cell_type": "code",
   "execution_count": 2,
   "metadata": {},
   "outputs": [
    {
     "name": "stdout",
     "output_type": "stream",
     "text": [
      "# of attr files:  130\n",
      "# of geo pct files:  130\n",
      "# of seller pct files:  130\n"
     ]
    }
   ],
   "source": [
    "data_directory = \"C:/Users/YuriTurygin/Desktop/NN-PPM/new data\"\n",
    "\n",
    "# Create lists of data files (3 groups: regular attributes, GEO, and Seller composition)\n",
    "pools_attributes_files = list()\n",
    "for root, dirs, files in os.walk(data_directory + \"/pools attributes\"):\n",
    "    for name in files:\n",
    "        pools_attributes_files.append(os.path.join(root, name))        \n",
    "        \n",
    "pools_geo_pct_files = list()\n",
    "for root, dirs, files in os.walk(data_directory + \"/geo pct\"):\n",
    "    for name in files:\n",
    "        pools_geo_pct_files.append(os.path.join(root, name))  \n",
    "        \n",
    "pools_seller_pct_files = list()\n",
    "for root, dirs, files in os.walk(data_directory + \"/seller pct\"):\n",
    "    for name in files:\n",
    "        pools_seller_pct_files.append(os.path.join(root, name)) \n",
    "        \n",
    "print(\"# of attr files: \",len(pools_attributes_files))\n",
    "print(\"# of geo pct files: \",len(pools_geo_pct_files))\n",
    "print(\"# of seller pct files: \",len(pools_seller_pct_files))"
   ]
  },
  {
   "cell_type": "code",
   "execution_count": 3,
   "metadata": {},
   "outputs": [
    {
     "name": "stderr",
     "output_type": "stream",
     "text": [
      "C:\\Users\\YuriTurygin\\Anaconda3\\lib\\site-packages\\IPython\\core\\interactiveshell.py:3063: DtypeWarning: Columns (7) have mixed types.Specify dtype option on import or set low_memory=False.\n",
      "  interactivity=interactivity, compiler=compiler, result=result)\n",
      "C:\\Users\\YuriTurygin\\Anaconda3\\lib\\site-packages\\IPython\\core\\interactiveshell.py:3063: DtypeWarning: Columns (4) have mixed types.Specify dtype option on import or set low_memory=False.\n",
      "  interactivity=interactivity, compiler=compiler, result=result)\n",
      "C:\\Users\\YuriTurygin\\Anaconda3\\lib\\site-packages\\IPython\\core\\interactiveshell.py:3063: DtypeWarning: Columns (14) have mixed types.Specify dtype option on import or set low_memory=False.\n",
      "  interactivity=interactivity, compiler=compiler, result=result)\n",
      "C:\\Users\\YuriTurygin\\Anaconda3\\lib\\site-packages\\IPython\\core\\interactiveshell.py:3063: DtypeWarning: Columns (9) have mixed types.Specify dtype option on import or set low_memory=False.\n",
      "  interactivity=interactivity, compiler=compiler, result=result)\n"
     ]
    }
   ],
   "source": [
    "# Read in all files with regular pool attributes\n",
    "attr_df = pd.DataFrame()\n",
    "for file in pools_attributes_files:\n",
    "    one_month_issue_pools = pd.read_csv(file)\n",
    "    if len(attr_df)==0:\n",
    "        attr_df = one_month_issue_pools\n",
    "    else:\n",
    "        # df1.columns.difference(df2.columns)\n",
    "        # df2.columns.difference(df1.columns)\n",
    "        if all(attr_df.columns == one_month_issue_pools.columns):\n",
    "            attr_df = pd.concat([attr_df,one_month_issue_pools])\n",
    "        else:\n",
    "            print(f'columns missmatch for {file}')\n",
    "\n",
    "    #print('Done loading ' + file)"
   ]
  },
  {
   "cell_type": "code",
   "execution_count": 4,
   "metadata": {},
   "outputs": [
    {
     "data": {
      "text/plain": [
       "Index(['poolno', 'asofdate', 'cusip', 'Prefix', 'spread', 'Cpr1', 'Cpr3',\n",
       "       'Cpr6', 'Cpr12', 'Cpr24', 'CprLife', 'SMM', 'DayCount', 'OBal', 'CBal',\n",
       "       'pbal', 'paydown', 'Prepay', 'factor', 'OCoupon', 'Coupon', 'OWac',\n",
       "       'Wac', 'Wam', 'Age', 'aols', 'waols', 'ONLoans', 'cnloans', 'PCNLoans',\n",
       "       'PPNLoans', 'OSato', 'CSato', 'oltv', 'cltv', '%cltv_80', '%cltv_105',\n",
       "       '%cltv_125', '%ccltv_80', '%ccltv_105', '%ccltv_125', 'fico',\n",
       "       '%FedHold', '%CMOHold', 'dti', 'codti', '%CashWindow', '%Majors',\n",
       "       'ocltv', 'ccltv', 'PurpPct_purchase', 'PurpPct_refi',\n",
       "       'PctChannel_Broker', 'PctChannel_Corr', 'PctChannel_Retail',\n",
       "       'OccPct_investor', 'OccPct_owner', 'PropUnitsPct_2-4', 'Label'],\n",
       "      dtype='object')"
      ]
     },
     "execution_count": 4,
     "metadata": {},
     "output_type": "execute_result"
    }
   ],
   "source": [
    "attr_df.columns"
   ]
  },
  {
   "cell_type": "code",
   "execution_count": 5,
   "metadata": {},
   "outputs": [
    {
     "name": "stdout",
     "output_type": "stream",
     "text": [
      "attr_df.shape = (2578718, 59)\n"
     ]
    }
   ],
   "source": [
    "print(f'attr_df.shape = {attr_df.shape}')"
   ]
  },
  {
   "cell_type": "code",
   "execution_count": 6,
   "metadata": {},
   "outputs": [],
   "source": [
    "# Read in all files with pools GEO info\n",
    "geo_df = pd.DataFrame()\n",
    "for file in pools_geo_pct_files:\n",
    "    one_month_issue_pools = pd.read_csv(file)\n",
    "    if len(geo_df)==0:\n",
    "        geo_df = one_month_issue_pools\n",
    "    else:\n",
    "        # df1.columns.difference(df2.columns)\n",
    "        # df2.columns.difference(df1.columns)\n",
    "        if all(geo_df.columns == one_month_issue_pools.columns):\n",
    "            geo_df = pd.concat([geo_df,one_month_issue_pools])\n",
    "        else:\n",
    "            print(f'columns missmatch for {file}')\n",
    "\n",
    "    #print('Done loading ' + file)"
   ]
  },
  {
   "cell_type": "code",
   "execution_count": 7,
   "metadata": {},
   "outputs": [
    {
     "data": {
      "text/plain": [
       "Index(['poolno', 'asofdate', 'cusip', 'StatePct_AK', 'StatePct_AL',\n",
       "       'StatePct_AR', 'StatePct_AZ', 'StatePct_CA', 'StatePct_CO',\n",
       "       'StatePct_CT', 'StatePct_DC', 'StatePct_DE', 'StatePct_FL',\n",
       "       'StatePct_GA', 'StatePct_GU', 'StatePct_HI', 'StatePct_IA',\n",
       "       'StatePct_ID', 'StatePct_IL', 'StatePct_IN', 'StatePct_KS',\n",
       "       'StatePct_KY', 'StatePct_LA', 'StatePct_MA', 'StatePct_MD',\n",
       "       'StatePct_ME', 'StatePct_MI', 'StatePct_MN', 'StatePct_MO',\n",
       "       'StatePct_MS', 'StatePct_MT', 'StatePct_NC', 'StatePct_ND',\n",
       "       'StatePct_NE', 'StatePct_NH', 'StatePct_NJ', 'StatePct_NM',\n",
       "       'StatePct_NV', 'StatePct_NY', 'StatePct_OH', 'StatePct_OK',\n",
       "       'StatePct_OR', 'StatePct_PA', 'StatePct_PR', 'StatePct_RI',\n",
       "       'StatePct_SC', 'StatePct_SD', 'StatePct_TN', 'StatePct_TX',\n",
       "       'StatePct_UT', 'StatePct_VA', 'StatePct_VI', 'StatePct_VT',\n",
       "       'StatePct_WA', 'StatePct_WI', 'StatePct_WV', 'StatePct_WY', 'Label'],\n",
       "      dtype='object')"
      ]
     },
     "execution_count": 7,
     "metadata": {},
     "output_type": "execute_result"
    }
   ],
   "source": [
    "geo_df.columns"
   ]
  },
  {
   "cell_type": "code",
   "execution_count": 8,
   "metadata": {},
   "outputs": [
    {
     "name": "stdout",
     "output_type": "stream",
     "text": [
      "geo_df.shape = (1110386, 58)\n"
     ]
    }
   ],
   "source": [
    "print(f'geo_df.shape = {geo_df.shape}')"
   ]
  },
  {
   "cell_type": "code",
   "execution_count": 9,
   "metadata": {},
   "outputs": [],
   "source": [
    "# Read in all files with pools Seller info\n",
    "seller_df = pd.DataFrame()\n",
    "for file in pools_seller_pct_files:\n",
    "    one_month_issue_pools = pd.read_csv(file)\n",
    "    if len(seller_df)==0:\n",
    "        seller_df = one_month_issue_pools\n",
    "    else:\n",
    "        # df1.columns.difference(df2.columns)\n",
    "        # df2.columns.difference(df1.columns)\n",
    "        if all(seller_df.columns == one_month_issue_pools.columns):\n",
    "            seller_df = pd.concat([seller_df,one_month_issue_pools])\n",
    "        else:\n",
    "            print(f'columns missmatch for {file}')\n",
    "    #print('Done loading ' + file)"
   ]
  },
  {
   "cell_type": "code",
   "execution_count": 10,
   "metadata": {},
   "outputs": [
    {
     "data": {
      "text/plain": [
       "Index(['poolno', 'asofdate', 'SellerPct_AMRHT', 'SellerPct_ALS',\n",
       "       'SellerPct_CAFULL', 'SellerPct_CNTL', 'SellerPct_CITIZ', 'SellerPct_53',\n",
       "       'SellerPct_FIR', 'SellerPct_FRDOM', 'SellerPct_GUILD',\n",
       "       'SellerPct_CHASE', 'SellerPct_LLSL', 'SellerPct_MATRX', 'SellerPct_NCM',\n",
       "       'SellerPct_NATIONST', 'SellerPct_NRESM', 'SellerPct_PNYMAC',\n",
       "       'SellerPct_PILOSI', 'SellerPct_QUICK', 'SellerPct_REG',\n",
       "       'SellerPct_RMSC', 'SellerPct_UNSHFI', 'SellerPct_WFHM', 'cusip',\n",
       "       'Prefix', 'Label'],\n",
       "      dtype='object')"
      ]
     },
     "execution_count": 10,
     "metadata": {},
     "output_type": "execute_result"
    }
   ],
   "source": [
    "seller_df.columns"
   ]
  },
  {
   "cell_type": "code",
   "execution_count": 11,
   "metadata": {},
   "outputs": [
    {
     "name": "stdout",
     "output_type": "stream",
     "text": [
      "seller_df.shape = (1486443, 27)\n"
     ]
    }
   ],
   "source": [
    "print(f'seller_df.shape = {seller_df.shape}')"
   ]
  },
  {
   "cell_type": "code",
   "execution_count": 12,
   "metadata": {},
   "outputs": [
    {
     "name": "stdout",
     "output_type": "stream",
     "text": [
      "attr_df.shape = (2578718, 59)\n"
     ]
    }
   ],
   "source": [
    "print(f'attr_df.shape = {attr_df.shape}')"
   ]
  },
  {
   "cell_type": "code",
   "execution_count": 13,
   "metadata": {},
   "outputs": [],
   "source": [
    "attr_df.drop(['Prefix','Cpr1','Cpr3','Cpr6','Cpr12','Cpr24','CprLife','pbal','paydown','Prepay','OCoupon','OWac','PCNLoans','PPNLoans','OSato','%cltv_80','%cltv_105','%cltv_125','%ccltv_80','%ccltv_105','%ccltv_125','%FedHold','%CMOHold','dti','codti'],axis=1,inplace=True)"
   ]
  },
  {
   "cell_type": "code",
   "execution_count": 14,
   "metadata": {},
   "outputs": [],
   "source": [
    "attr_df.dropna(subset=['CBal','SMM','Wac','aols','fico','OccPct_investor','OccPct_owner','PropUnitsPct_2-4'],inplace=True)"
   ]
  },
  {
   "cell_type": "code",
   "execution_count": 15,
   "metadata": {},
   "outputs": [],
   "source": [
    "attr_df.sort_values(by=['poolno','asofdate'],inplace=True)"
   ]
  },
  {
   "cell_type": "code",
   "execution_count": 16,
   "metadata": {},
   "outputs": [],
   "source": [
    "attr_df.fillna(method='ffill',inplace=True)"
   ]
  },
  {
   "cell_type": "code",
   "execution_count": 17,
   "metadata": {},
   "outputs": [],
   "source": [
    "attr_df['CBal'] = attr_df['CBal'].apply(lambda x: float(x))"
   ]
  },
  {
   "cell_type": "code",
   "execution_count": 18,
   "metadata": {},
   "outputs": [],
   "source": [
    "attr_df.rename(columns={'Label':'pool_issue_month'},inplace=True)"
   ]
  },
  {
   "cell_type": "code",
   "execution_count": 19,
   "metadata": {},
   "outputs": [
    {
     "name": "stdout",
     "output_type": "stream",
     "text": [
      "<class 'pandas.core.frame.DataFrame'>\n",
      "Int64Index: 2574122 entries, 12849 to 21251\n",
      "Data columns (total 34 columns):\n",
      " #   Column             Non-Null Count    Dtype  \n",
      "---  ------             --------------    -----  \n",
      " 0   poolno             2574122 non-null  object \n",
      " 1   asofdate           2574122 non-null  int64  \n",
      " 2   cusip              2574122 non-null  object \n",
      " 3   spread             2574122 non-null  object \n",
      " 4   SMM                2574122 non-null  float64\n",
      " 5   DayCount           2574122 non-null  float64\n",
      " 6   OBal               2574122 non-null  float64\n",
      " 7   CBal               2574122 non-null  float64\n",
      " 8   factor             2574122 non-null  float64\n",
      " 9   Coupon             2574122 non-null  float64\n",
      " 10  Wac                2574122 non-null  float64\n",
      " 11  Wam                2574122 non-null  float64\n",
      " 12  Age                2574122 non-null  float64\n",
      " 13  aols               2574122 non-null  float64\n",
      " 14  waols              2574122 non-null  object \n",
      " 15  ONLoans            2574122 non-null  float64\n",
      " 16  cnloans            2574122 non-null  float64\n",
      " 17  CSato              2574122 non-null  float64\n",
      " 18  oltv               2574122 non-null  float64\n",
      " 19  cltv               2574122 non-null  float64\n",
      " 20  fico               2574122 non-null  float64\n",
      " 21  %CashWindow        2574122 non-null  float64\n",
      " 22  %Majors            2574122 non-null  object \n",
      " 23  ocltv              2574104 non-null  float64\n",
      " 24  ccltv              2574104 non-null  float64\n",
      " 25  PurpPct_purchase   2574122 non-null  float64\n",
      " 26  PurpPct_refi       2574122 non-null  float64\n",
      " 27  PctChannel_Broker  2574122 non-null  float64\n",
      " 28  PctChannel_Corr    2574122 non-null  float64\n",
      " 29  PctChannel_Retail  2574122 non-null  float64\n",
      " 30  OccPct_investor    2574122 non-null  float64\n",
      " 31  OccPct_owner       2574122 non-null  float64\n",
      " 32  PropUnitsPct_2-4   2574122 non-null  float64\n",
      " 33  pool_issue_month   2574122 non-null  int64  \n",
      "dtypes: float64(27), int64(2), object(5)\n",
      "memory usage: 687.4+ MB\n"
     ]
    }
   ],
   "source": [
    "attr_df.info(verbose=True, null_counts=True)"
   ]
  },
  {
   "cell_type": "code",
   "execution_count": 20,
   "metadata": {},
   "outputs": [],
   "source": [
    "geo_df.drop('Label',axis=1,inplace=True)"
   ]
  },
  {
   "cell_type": "code",
   "execution_count": 21,
   "metadata": {},
   "outputs": [],
   "source": [
    "geo_df.sort_values(by=['poolno','asofdate'],inplace=True)"
   ]
  },
  {
   "cell_type": "code",
   "execution_count": 22,
   "metadata": {},
   "outputs": [],
   "source": [
    "geo_df.fillna(method='ffill',inplace=True)"
   ]
  },
  {
   "cell_type": "code",
   "execution_count": 23,
   "metadata": {},
   "outputs": [
    {
     "name": "stdout",
     "output_type": "stream",
     "text": [
      "<class 'pandas.core.frame.DataFrame'>\n",
      "Int64Index: 1110386 entries, 1638 to 4436\n",
      "Data columns (total 57 columns):\n",
      " #   Column       Non-Null Count    Dtype  \n",
      "---  ------       --------------    -----  \n",
      " 0   poolno       1110386 non-null  object \n",
      " 1   asofdate     1110386 non-null  int64  \n",
      " 2   cusip        1110386 non-null  object \n",
      " 3   StatePct_AK  1110386 non-null  float64\n",
      " 4   StatePct_AL  1110386 non-null  object \n",
      " 5   StatePct_AR  1110386 non-null  float64\n",
      " 6   StatePct_AZ  1110386 non-null  float64\n",
      " 7   StatePct_CA  1110386 non-null  float64\n",
      " 8   StatePct_CO  1110386 non-null  object \n",
      " 9   StatePct_CT  1110386 non-null  float64\n",
      " 10  StatePct_DC  1110386 non-null  float64\n",
      " 11  StatePct_DE  1110386 non-null  float64\n",
      " 12  StatePct_FL  1110386 non-null  float64\n",
      " 13  StatePct_GA  1110386 non-null  float64\n",
      " 14  StatePct_GU  1110386 non-null  float64\n",
      " 15  StatePct_HI  1110386 non-null  float64\n",
      " 16  StatePct_IA  1110386 non-null  float64\n",
      " 17  StatePct_ID  1110386 non-null  float64\n",
      " 18  StatePct_IL  1110386 non-null  float64\n",
      " 19  StatePct_IN  1110386 non-null  float64\n",
      " 20  StatePct_KS  1110386 non-null  float64\n",
      " 21  StatePct_KY  1110386 non-null  object \n",
      " 22  StatePct_LA  1110386 non-null  object \n",
      " 23  StatePct_MA  1110386 non-null  float64\n",
      " 24  StatePct_MD  1110386 non-null  float64\n",
      " 25  StatePct_ME  1110386 non-null  object \n",
      " 26  StatePct_MI  1110386 non-null  object \n",
      " 27  StatePct_MN  1110386 non-null  float64\n",
      " 28  StatePct_MO  1110386 non-null  float64\n",
      " 29  StatePct_MS  1110386 non-null  float64\n",
      " 30  StatePct_MT  1110386 non-null  object \n",
      " 31  StatePct_NC  1110386 non-null  float64\n",
      " 32  StatePct_ND  1110386 non-null  float64\n",
      " 33  StatePct_NE  1110386 non-null  float64\n",
      " 34  StatePct_NH  1110386 non-null  float64\n",
      " 35  StatePct_NJ  1110386 non-null  float64\n",
      " 36  StatePct_NM  1110386 non-null  float64\n",
      " 37  StatePct_NV  1110386 non-null  float64\n",
      " 38  StatePct_NY  1110386 non-null  float64\n",
      " 39  StatePct_OH  1110386 non-null  float64\n",
      " 40  StatePct_OK  1110386 non-null  float64\n",
      " 41  StatePct_OR  1110386 non-null  float64\n",
      " 42  StatePct_PA  1110386 non-null  float64\n",
      " 43  StatePct_PR  1110386 non-null  object \n",
      " 44  StatePct_RI  1110386 non-null  object \n",
      " 45  StatePct_SC  1110386 non-null  float64\n",
      " 46  StatePct_SD  1110386 non-null  float64\n",
      " 47  StatePct_TN  1110386 non-null  object \n",
      " 48  StatePct_TX  1110386 non-null  object \n",
      " 49  StatePct_UT  1110386 non-null  float64\n",
      " 50  StatePct_VA  1110386 non-null  float64\n",
      " 51  StatePct_VI  1110386 non-null  float64\n",
      " 52  StatePct_VT  1110386 non-null  object \n",
      " 53  StatePct_WA  1110386 non-null  float64\n",
      " 54  StatePct_WI  1110386 non-null  float64\n",
      " 55  StatePct_WV  1110386 non-null  float64\n",
      " 56  StatePct_WY  1110386 non-null  object \n",
      "dtypes: float64(41), int64(1), object(15)\n",
      "memory usage: 491.4+ MB\n"
     ]
    }
   ],
   "source": [
    "geo_df.info(verbose=True, null_counts=True)"
   ]
  },
  {
   "cell_type": "code",
   "execution_count": 24,
   "metadata": {},
   "outputs": [],
   "source": [
    "geo_columns = ['StatePct_AK','StatePct_AL','StatePct_AR','StatePct_AZ','StatePct_CA','StatePct_CO','StatePct_CT',\n",
    "                'StatePct_DC','StatePct_DE','StatePct_FL','StatePct_GA','StatePct_GU','StatePct_HI','StatePct_IA',\n",
    "                'StatePct_ID','StatePct_IL','StatePct_IN','StatePct_KS','StatePct_KY','StatePct_LA','StatePct_MA',\n",
    "                'StatePct_MD','StatePct_ME','StatePct_MI','StatePct_MN','StatePct_MO','StatePct_MS','StatePct_MT',\n",
    "                'StatePct_NC','StatePct_ND','StatePct_NE','StatePct_NH','StatePct_NJ','StatePct_NM','StatePct_NV',\n",
    "                'StatePct_NY','StatePct_OH','StatePct_OK','StatePct_OR','StatePct_PA','StatePct_PR','StatePct_RI',\n",
    "                'StatePct_SC','StatePct_SD','StatePct_TN','StatePct_TX','StatePct_UT','StatePct_VA','StatePct_VI',\n",
    "                'StatePct_VT','StatePct_WA','StatePct_WI','StatePct_WV','StatePct_WY']"
   ]
  },
  {
   "cell_type": "code",
   "execution_count": 25,
   "metadata": {},
   "outputs": [],
   "source": [
    "def isfloat(value):\n",
    "  try:\n",
    "    float(value)\n",
    "    return True\n",
    "  except ValueError:\n",
    "    return False"
   ]
  },
  {
   "cell_type": "code",
   "execution_count": 26,
   "metadata": {},
   "outputs": [],
   "source": [
    "geo_df[geo_columns] = geo_df[geo_columns].applymap(lambda x: float(x) if isfloat(x) else np.nan)"
   ]
  },
  {
   "cell_type": "code",
   "execution_count": 27,
   "metadata": {},
   "outputs": [],
   "source": [
    "geo_df.fillna(0,inplace=True)"
   ]
  },
  {
   "cell_type": "code",
   "execution_count": 28,
   "metadata": {},
   "outputs": [
    {
     "name": "stdout",
     "output_type": "stream",
     "text": [
      "<class 'pandas.core.frame.DataFrame'>\n",
      "Int64Index: 1110386 entries, 1638 to 4436\n",
      "Data columns (total 57 columns):\n",
      " #   Column       Non-Null Count    Dtype  \n",
      "---  ------       --------------    -----  \n",
      " 0   poolno       1110386 non-null  object \n",
      " 1   asofdate     1110386 non-null  int64  \n",
      " 2   cusip        1110386 non-null  object \n",
      " 3   StatePct_AK  1110386 non-null  float64\n",
      " 4   StatePct_AL  1110386 non-null  float64\n",
      " 5   StatePct_AR  1110386 non-null  float64\n",
      " 6   StatePct_AZ  1110386 non-null  float64\n",
      " 7   StatePct_CA  1110386 non-null  float64\n",
      " 8   StatePct_CO  1110386 non-null  float64\n",
      " 9   StatePct_CT  1110386 non-null  float64\n",
      " 10  StatePct_DC  1110386 non-null  float64\n",
      " 11  StatePct_DE  1110386 non-null  float64\n",
      " 12  StatePct_FL  1110386 non-null  float64\n",
      " 13  StatePct_GA  1110386 non-null  float64\n",
      " 14  StatePct_GU  1110386 non-null  float64\n",
      " 15  StatePct_HI  1110386 non-null  float64\n",
      " 16  StatePct_IA  1110386 non-null  float64\n",
      " 17  StatePct_ID  1110386 non-null  float64\n",
      " 18  StatePct_IL  1110386 non-null  float64\n",
      " 19  StatePct_IN  1110386 non-null  float64\n",
      " 20  StatePct_KS  1110386 non-null  float64\n",
      " 21  StatePct_KY  1110386 non-null  float64\n",
      " 22  StatePct_LA  1110386 non-null  float64\n",
      " 23  StatePct_MA  1110386 non-null  float64\n",
      " 24  StatePct_MD  1110386 non-null  float64\n",
      " 25  StatePct_ME  1110386 non-null  float64\n",
      " 26  StatePct_MI  1110386 non-null  float64\n",
      " 27  StatePct_MN  1110386 non-null  float64\n",
      " 28  StatePct_MO  1110386 non-null  float64\n",
      " 29  StatePct_MS  1110386 non-null  float64\n",
      " 30  StatePct_MT  1110386 non-null  float64\n",
      " 31  StatePct_NC  1110386 non-null  float64\n",
      " 32  StatePct_ND  1110386 non-null  float64\n",
      " 33  StatePct_NE  1110386 non-null  float64\n",
      " 34  StatePct_NH  1110386 non-null  float64\n",
      " 35  StatePct_NJ  1110386 non-null  float64\n",
      " 36  StatePct_NM  1110386 non-null  float64\n",
      " 37  StatePct_NV  1110386 non-null  float64\n",
      " 38  StatePct_NY  1110386 non-null  float64\n",
      " 39  StatePct_OH  1110386 non-null  float64\n",
      " 40  StatePct_OK  1110386 non-null  float64\n",
      " 41  StatePct_OR  1110386 non-null  float64\n",
      " 42  StatePct_PA  1110386 non-null  float64\n",
      " 43  StatePct_PR  1110386 non-null  float64\n",
      " 44  StatePct_RI  1110386 non-null  float64\n",
      " 45  StatePct_SC  1110386 non-null  float64\n",
      " 46  StatePct_SD  1110386 non-null  float64\n",
      " 47  StatePct_TN  1110386 non-null  float64\n",
      " 48  StatePct_TX  1110386 non-null  float64\n",
      " 49  StatePct_UT  1110386 non-null  float64\n",
      " 50  StatePct_VA  1110386 non-null  float64\n",
      " 51  StatePct_VI  1110386 non-null  float64\n",
      " 52  StatePct_VT  1110386 non-null  float64\n",
      " 53  StatePct_WA  1110386 non-null  float64\n",
      " 54  StatePct_WI  1110386 non-null  float64\n",
      " 55  StatePct_WV  1110386 non-null  float64\n",
      " 56  StatePct_WY  1110386 non-null  float64\n",
      "dtypes: float64(54), int64(1), object(2)\n",
      "memory usage: 491.4+ MB\n"
     ]
    }
   ],
   "source": [
    "geo_df.info(verbose=True, null_counts=True)"
   ]
  },
  {
   "cell_type": "code",
   "execution_count": 29,
   "metadata": {},
   "outputs": [
    {
     "name": "stdout",
     "output_type": "stream",
     "text": [
      "<class 'pandas.core.frame.DataFrame'>\n",
      "Int64Index: 1486443 entries, 0 to 1657\n",
      "Data columns (total 27 columns):\n",
      " #   Column              Non-Null Count    Dtype  \n",
      "---  ------              --------------    -----  \n",
      " 0   poolno              1486443 non-null  object \n",
      " 1   asofdate            1486443 non-null  int64  \n",
      " 2   SellerPct_AMRHT     1485051 non-null  float64\n",
      " 3   SellerPct_ALS       1485051 non-null  float64\n",
      " 4   SellerPct_CAFULL    1485051 non-null  float64\n",
      " 5   SellerPct_CNTL      1485051 non-null  float64\n",
      " 6   SellerPct_CITIZ     1485051 non-null  float64\n",
      " 7   SellerPct_53        1485051 non-null  float64\n",
      " 8   SellerPct_FIR       1485051 non-null  float64\n",
      " 9   SellerPct_FRDOM     1485051 non-null  float64\n",
      " 10  SellerPct_GUILD     1485051 non-null  float64\n",
      " 11  SellerPct_CHASE     1485050 non-null  float64\n",
      " 12  SellerPct_LLSL      1485050 non-null  float64\n",
      " 13  SellerPct_MATRX     1485050 non-null  float64\n",
      " 14  SellerPct_NCM       1485050 non-null  float64\n",
      " 15  SellerPct_NATIONST  1485050 non-null  float64\n",
      " 16  SellerPct_NRESM     1485049 non-null  float64\n",
      " 17  SellerPct_PNYMAC    1485049 non-null  float64\n",
      " 18  SellerPct_PILOSI    1485049 non-null  float64\n",
      " 19  SellerPct_QUICK     1485049 non-null  float64\n",
      " 20  SellerPct_REG       1485049 non-null  float64\n",
      " 21  SellerPct_RMSC      1485049 non-null  float64\n",
      " 22  SellerPct_UNSHFI    1485049 non-null  object \n",
      " 23  SellerPct_WFHM      1485048 non-null  float64\n",
      " 24  cusip               1486440 non-null  object \n",
      " 25  Prefix              1486439 non-null  object \n",
      " 26  Label               1486443 non-null  int64  \n",
      "dtypes: float64(21), int64(2), object(4)\n",
      "memory usage: 317.5+ MB\n"
     ]
    }
   ],
   "source": [
    "seller_df.info(verbose=True, null_counts=True)"
   ]
  },
  {
   "cell_type": "code",
   "execution_count": 30,
   "metadata": {},
   "outputs": [],
   "source": [
    "seller_df.drop(['Label','Prefix'],axis=1,inplace=True)"
   ]
  },
  {
   "cell_type": "code",
   "execution_count": 31,
   "metadata": {},
   "outputs": [],
   "source": [
    "seller_df.sort_values(by=['poolno','asofdate'],inplace=True)"
   ]
  },
  {
   "cell_type": "code",
   "execution_count": 32,
   "metadata": {},
   "outputs": [],
   "source": [
    "seller_df.fillna(method='ffill',inplace=True)"
   ]
  },
  {
   "cell_type": "code",
   "execution_count": 33,
   "metadata": {},
   "outputs": [],
   "source": [
    "seller_columns = ['SellerPct_AMRHT','SellerPct_ALS','SellerPct_CAFULL','SellerPct_CNTL','SellerPct_CITIZ',\n",
    "                  'SellerPct_53','SellerPct_FIR','SellerPct_FRDOM','SellerPct_GUILD','SellerPct_CHASE',\n",
    "                  'SellerPct_LLSL','SellerPct_MATRX','SellerPct_NCM','SellerPct_NATIONST','SellerPct_NRESM',\n",
    "                  'SellerPct_PNYMAC','SellerPct_PILOSI','SellerPct_QUICK','SellerPct_REG','SellerPct_RMSC',\n",
    "                  'SellerPct_UNSHFI','SellerPct_WFHM']"
   ]
  },
  {
   "cell_type": "code",
   "execution_count": 34,
   "metadata": {},
   "outputs": [],
   "source": [
    "seller_df[seller_columns] = seller_df[seller_columns].applymap(lambda x: float(x) if isfloat(x) else np.nan)"
   ]
  },
  {
   "cell_type": "code",
   "execution_count": 35,
   "metadata": {},
   "outputs": [],
   "source": [
    "seller_df.fillna(0,inplace=True)"
   ]
  },
  {
   "cell_type": "code",
   "execution_count": 36,
   "metadata": {},
   "outputs": [
    {
     "name": "stdout",
     "output_type": "stream",
     "text": [
      "<class 'pandas.core.frame.DataFrame'>\n",
      "Int64Index: 1486443 entries, 12849 to 4436\n",
      "Data columns (total 25 columns):\n",
      " #   Column              Non-Null Count    Dtype  \n",
      "---  ------              --------------    -----  \n",
      " 0   poolno              1486443 non-null  object \n",
      " 1   asofdate            1486443 non-null  int64  \n",
      " 2   SellerPct_AMRHT     1486443 non-null  float64\n",
      " 3   SellerPct_ALS       1486443 non-null  float64\n",
      " 4   SellerPct_CAFULL    1486443 non-null  float64\n",
      " 5   SellerPct_CNTL      1486443 non-null  float64\n",
      " 6   SellerPct_CITIZ     1486443 non-null  float64\n",
      " 7   SellerPct_53        1486443 non-null  float64\n",
      " 8   SellerPct_FIR       1486443 non-null  float64\n",
      " 9   SellerPct_FRDOM     1486443 non-null  float64\n",
      " 10  SellerPct_GUILD     1486443 non-null  float64\n",
      " 11  SellerPct_CHASE     1486443 non-null  float64\n",
      " 12  SellerPct_LLSL      1486443 non-null  float64\n",
      " 13  SellerPct_MATRX     1486443 non-null  float64\n",
      " 14  SellerPct_NCM       1486443 non-null  float64\n",
      " 15  SellerPct_NATIONST  1486443 non-null  float64\n",
      " 16  SellerPct_NRESM     1486443 non-null  float64\n",
      " 17  SellerPct_PNYMAC    1486443 non-null  float64\n",
      " 18  SellerPct_PILOSI    1486443 non-null  float64\n",
      " 19  SellerPct_QUICK     1486443 non-null  float64\n",
      " 20  SellerPct_REG       1486443 non-null  float64\n",
      " 21  SellerPct_RMSC      1486443 non-null  float64\n",
      " 22  SellerPct_UNSHFI    1486443 non-null  float64\n",
      " 23  SellerPct_WFHM      1486443 non-null  float64\n",
      " 24  cusip               1486443 non-null  object \n",
      "dtypes: float64(22), int64(1), object(2)\n",
      "memory usage: 294.9+ MB\n"
     ]
    }
   ],
   "source": [
    "seller_df.info(verbose=True, null_counts=True)"
   ]
  },
  {
   "cell_type": "code",
   "execution_count": 37,
   "metadata": {},
   "outputs": [],
   "source": [
    "dill.dump_session('notebook_env_all_3_dfs.db')"
   ]
  },
  {
   "cell_type": "markdown",
   "metadata": {},
   "source": [
    "-----------------------------------------------------------------------------------------------------------------\n",
    "-----------------------------------------------------------------------------------------------------------------\n",
    "Section above performed data loading from raw csv files, performed data cleaning and filled in NAs.\n",
    "Section below combines the three DataFrames (attr_df, geo_df, seller_df) into a single DataFrame called df\n",
    "We then save df into a dill session memory file and csv files for pools with >=250 current number of loans\n",
    "Due to memory issues we only keep a subset of df consisting only of pools with >=250 current number of loans \n",
    "\n",
    "-----------------------------------------------------------------------------------------------------------------\n",
    "-----------------------------------------------------------------------------------------------------------------"
   ]
  },
  {
   "cell_type": "code",
   "execution_count": 38,
   "metadata": {},
   "outputs": [],
   "source": [
    "#dill.load_session('notebook_env_all_3_dfs.db')"
   ]
  },
  {
   "cell_type": "code",
   "execution_count": 39,
   "metadata": {},
   "outputs": [
    {
     "name": "stdout",
     "output_type": "stream",
     "text": [
      "attr_df.shape   = (2574122, 34)\n",
      "geo_df.shape    = (1110386, 57)\n",
      "seller_df.shape = (1486443, 25)\n"
     ]
    }
   ],
   "source": [
    "print(f'attr_df.shape   = {attr_df.shape}')\n",
    "print(f'geo_df.shape    = {geo_df.shape}')\n",
    "print(f'seller_df.shape = {seller_df.shape}')"
   ]
  },
  {
   "cell_type": "code",
   "execution_count": 40,
   "metadata": {},
   "outputs": [
    {
     "name": "stdout",
     "output_type": "stream",
     "text": [
      "attr_df.shape = (109186, 34)\n"
     ]
    }
   ],
   "source": [
    "nloans = 250\n",
    "attr_df = attr_df[attr_df['cnloans']>=nloans]\n",
    "\n",
    "print(f'attr_df.shape = {attr_df.shape}')"
   ]
  },
  {
   "cell_type": "code",
   "execution_count": 41,
   "metadata": {},
   "outputs": [],
   "source": [
    "geo_df.drop('poolno',axis=1,inplace=True)"
   ]
  },
  {
   "cell_type": "code",
   "execution_count": 42,
   "metadata": {},
   "outputs": [],
   "source": [
    "df = pd.merge(attr_df,geo_df,on=['cusip','asofdate'],how='left')"
   ]
  },
  {
   "cell_type": "code",
   "execution_count": 43,
   "metadata": {},
   "outputs": [
    {
     "name": "stdout",
     "output_type": "stream",
     "text": [
      "<class 'pandas.core.frame.DataFrame'>\n",
      "Int64Index: 109186 entries, 0 to 109185\n",
      "Data columns (total 88 columns):\n",
      " #   Column             Non-Null Count   Dtype  \n",
      "---  ------             --------------   -----  \n",
      " 0   poolno             109186 non-null  object \n",
      " 1   asofdate           109186 non-null  int64  \n",
      " 2   cusip              109186 non-null  object \n",
      " 3   spread             109186 non-null  object \n",
      " 4   SMM                109186 non-null  float64\n",
      " 5   DayCount           109186 non-null  float64\n",
      " 6   OBal               109186 non-null  float64\n",
      " 7   CBal               109186 non-null  float64\n",
      " 8   factor             109186 non-null  float64\n",
      " 9   Coupon             109186 non-null  float64\n",
      " 10  Wac                109186 non-null  float64\n",
      " 11  Wam                109186 non-null  float64\n",
      " 12  Age                109186 non-null  float64\n",
      " 13  aols               109186 non-null  float64\n",
      " 14  waols              109186 non-null  object \n",
      " 15  ONLoans            109186 non-null  float64\n",
      " 16  cnloans            109186 non-null  float64\n",
      " 17  CSato              109186 non-null  float64\n",
      " 18  oltv               109186 non-null  float64\n",
      " 19  cltv               109186 non-null  float64\n",
      " 20  fico               109186 non-null  float64\n",
      " 21  %CashWindow        109186 non-null  float64\n",
      " 22  %Majors            109186 non-null  object \n",
      " 23  ocltv              109186 non-null  float64\n",
      " 24  ccltv              109186 non-null  float64\n",
      " 25  PurpPct_purchase   109186 non-null  float64\n",
      " 26  PurpPct_refi       109186 non-null  float64\n",
      " 27  PctChannel_Broker  109186 non-null  float64\n",
      " 28  PctChannel_Corr    109186 non-null  float64\n",
      " 29  PctChannel_Retail  109186 non-null  float64\n",
      " 30  OccPct_investor    109186 non-null  float64\n",
      " 31  OccPct_owner       109186 non-null  float64\n",
      " 32  PropUnitsPct_2-4   109186 non-null  float64\n",
      " 33  pool_issue_month   109186 non-null  int64  \n",
      " 34  StatePct_AK        79865 non-null   float64\n",
      " 35  StatePct_AL        79865 non-null   float64\n",
      " 36  StatePct_AR        79865 non-null   float64\n",
      " 37  StatePct_AZ        79865 non-null   float64\n",
      " 38  StatePct_CA        79865 non-null   float64\n",
      " 39  StatePct_CO        79865 non-null   float64\n",
      " 40  StatePct_CT        79865 non-null   float64\n",
      " 41  StatePct_DC        79865 non-null   float64\n",
      " 42  StatePct_DE        79865 non-null   float64\n",
      " 43  StatePct_FL        79865 non-null   float64\n",
      " 44  StatePct_GA        79865 non-null   float64\n",
      " 45  StatePct_GU        79865 non-null   float64\n",
      " 46  StatePct_HI        79865 non-null   float64\n",
      " 47  StatePct_IA        79865 non-null   float64\n",
      " 48  StatePct_ID        79865 non-null   float64\n",
      " 49  StatePct_IL        79865 non-null   float64\n",
      " 50  StatePct_IN        79865 non-null   float64\n",
      " 51  StatePct_KS        79865 non-null   float64\n",
      " 52  StatePct_KY        79865 non-null   float64\n",
      " 53  StatePct_LA        79865 non-null   float64\n",
      " 54  StatePct_MA        79865 non-null   float64\n",
      " 55  StatePct_MD        79865 non-null   float64\n",
      " 56  StatePct_ME        79865 non-null   float64\n",
      " 57  StatePct_MI        79865 non-null   float64\n",
      " 58  StatePct_MN        79865 non-null   float64\n",
      " 59  StatePct_MO        79865 non-null   float64\n",
      " 60  StatePct_MS        79865 non-null   float64\n",
      " 61  StatePct_MT        79865 non-null   float64\n",
      " 62  StatePct_NC        79865 non-null   float64\n",
      " 63  StatePct_ND        79865 non-null   float64\n",
      " 64  StatePct_NE        79865 non-null   float64\n",
      " 65  StatePct_NH        79865 non-null   float64\n",
      " 66  StatePct_NJ        79865 non-null   float64\n",
      " 67  StatePct_NM        79865 non-null   float64\n",
      " 68  StatePct_NV        79865 non-null   float64\n",
      " 69  StatePct_NY        79865 non-null   float64\n",
      " 70  StatePct_OH        79865 non-null   float64\n",
      " 71  StatePct_OK        79865 non-null   float64\n",
      " 72  StatePct_OR        79865 non-null   float64\n",
      " 73  StatePct_PA        79865 non-null   float64\n",
      " 74  StatePct_PR        79865 non-null   float64\n",
      " 75  StatePct_RI        79865 non-null   float64\n",
      " 76  StatePct_SC        79865 non-null   float64\n",
      " 77  StatePct_SD        79865 non-null   float64\n",
      " 78  StatePct_TN        79865 non-null   float64\n",
      " 79  StatePct_TX        79865 non-null   float64\n",
      " 80  StatePct_UT        79865 non-null   float64\n",
      " 81  StatePct_VA        79865 non-null   float64\n",
      " 82  StatePct_VI        79865 non-null   float64\n",
      " 83  StatePct_VT        79865 non-null   float64\n",
      " 84  StatePct_WA        79865 non-null   float64\n",
      " 85  StatePct_WI        79865 non-null   float64\n",
      " 86  StatePct_WV        79865 non-null   float64\n",
      " 87  StatePct_WY        79865 non-null   float64\n",
      "dtypes: float64(81), int64(2), object(5)\n",
      "memory usage: 74.1+ MB\n"
     ]
    }
   ],
   "source": [
    "df.info(verbose=True, null_counts=True)"
   ]
  },
  {
   "cell_type": "code",
   "execution_count": 44,
   "metadata": {},
   "outputs": [],
   "source": [
    "seller_df.drop('poolno',axis=1,inplace=True)"
   ]
  },
  {
   "cell_type": "code",
   "execution_count": 45,
   "metadata": {},
   "outputs": [],
   "source": [
    "df = pd.merge(df,seller_df,on=['cusip','asofdate'],how='left')"
   ]
  },
  {
   "cell_type": "code",
   "execution_count": 46,
   "metadata": {},
   "outputs": [],
   "source": [
    "df.fillna(0,inplace=True)"
   ]
  },
  {
   "cell_type": "code",
   "execution_count": 47,
   "metadata": {},
   "outputs": [
    {
     "name": "stdout",
     "output_type": "stream",
     "text": [
      "<class 'pandas.core.frame.DataFrame'>\n",
      "Int64Index: 109186 entries, 0 to 109185\n",
      "Data columns (total 110 columns):\n",
      " #   Column              Non-Null Count   Dtype  \n",
      "---  ------              --------------   -----  \n",
      " 0   poolno              109186 non-null  object \n",
      " 1   asofdate            109186 non-null  int64  \n",
      " 2   cusip               109186 non-null  object \n",
      " 3   spread              109186 non-null  object \n",
      " 4   SMM                 109186 non-null  float64\n",
      " 5   DayCount            109186 non-null  float64\n",
      " 6   OBal                109186 non-null  float64\n",
      " 7   CBal                109186 non-null  float64\n",
      " 8   factor              109186 non-null  float64\n",
      " 9   Coupon              109186 non-null  float64\n",
      " 10  Wac                 109186 non-null  float64\n",
      " 11  Wam                 109186 non-null  float64\n",
      " 12  Age                 109186 non-null  float64\n",
      " 13  aols                109186 non-null  float64\n",
      " 14  waols               109186 non-null  object \n",
      " 15  ONLoans             109186 non-null  float64\n",
      " 16  cnloans             109186 non-null  float64\n",
      " 17  CSato               109186 non-null  float64\n",
      " 18  oltv                109186 non-null  float64\n",
      " 19  cltv                109186 non-null  float64\n",
      " 20  fico                109186 non-null  float64\n",
      " 21  %CashWindow         109186 non-null  float64\n",
      " 22  %Majors             109186 non-null  object \n",
      " 23  ocltv               109186 non-null  float64\n",
      " 24  ccltv               109186 non-null  float64\n",
      " 25  PurpPct_purchase    109186 non-null  float64\n",
      " 26  PurpPct_refi        109186 non-null  float64\n",
      " 27  PctChannel_Broker   109186 non-null  float64\n",
      " 28  PctChannel_Corr     109186 non-null  float64\n",
      " 29  PctChannel_Retail   109186 non-null  float64\n",
      " 30  OccPct_investor     109186 non-null  float64\n",
      " 31  OccPct_owner        109186 non-null  float64\n",
      " 32  PropUnitsPct_2-4    109186 non-null  float64\n",
      " 33  pool_issue_month    109186 non-null  int64  \n",
      " 34  StatePct_AK         109186 non-null  float64\n",
      " 35  StatePct_AL         109186 non-null  float64\n",
      " 36  StatePct_AR         109186 non-null  float64\n",
      " 37  StatePct_AZ         109186 non-null  float64\n",
      " 38  StatePct_CA         109186 non-null  float64\n",
      " 39  StatePct_CO         109186 non-null  float64\n",
      " 40  StatePct_CT         109186 non-null  float64\n",
      " 41  StatePct_DC         109186 non-null  float64\n",
      " 42  StatePct_DE         109186 non-null  float64\n",
      " 43  StatePct_FL         109186 non-null  float64\n",
      " 44  StatePct_GA         109186 non-null  float64\n",
      " 45  StatePct_GU         109186 non-null  float64\n",
      " 46  StatePct_HI         109186 non-null  float64\n",
      " 47  StatePct_IA         109186 non-null  float64\n",
      " 48  StatePct_ID         109186 non-null  float64\n",
      " 49  StatePct_IL         109186 non-null  float64\n",
      " 50  StatePct_IN         109186 non-null  float64\n",
      " 51  StatePct_KS         109186 non-null  float64\n",
      " 52  StatePct_KY         109186 non-null  float64\n",
      " 53  StatePct_LA         109186 non-null  float64\n",
      " 54  StatePct_MA         109186 non-null  float64\n",
      " 55  StatePct_MD         109186 non-null  float64\n",
      " 56  StatePct_ME         109186 non-null  float64\n",
      " 57  StatePct_MI         109186 non-null  float64\n",
      " 58  StatePct_MN         109186 non-null  float64\n",
      " 59  StatePct_MO         109186 non-null  float64\n",
      " 60  StatePct_MS         109186 non-null  float64\n",
      " 61  StatePct_MT         109186 non-null  float64\n",
      " 62  StatePct_NC         109186 non-null  float64\n",
      " 63  StatePct_ND         109186 non-null  float64\n",
      " 64  StatePct_NE         109186 non-null  float64\n",
      " 65  StatePct_NH         109186 non-null  float64\n",
      " 66  StatePct_NJ         109186 non-null  float64\n",
      " 67  StatePct_NM         109186 non-null  float64\n",
      " 68  StatePct_NV         109186 non-null  float64\n",
      " 69  StatePct_NY         109186 non-null  float64\n",
      " 70  StatePct_OH         109186 non-null  float64\n",
      " 71  StatePct_OK         109186 non-null  float64\n",
      " 72  StatePct_OR         109186 non-null  float64\n",
      " 73  StatePct_PA         109186 non-null  float64\n",
      " 74  StatePct_PR         109186 non-null  float64\n",
      " 75  StatePct_RI         109186 non-null  float64\n",
      " 76  StatePct_SC         109186 non-null  float64\n",
      " 77  StatePct_SD         109186 non-null  float64\n",
      " 78  StatePct_TN         109186 non-null  float64\n",
      " 79  StatePct_TX         109186 non-null  float64\n",
      " 80  StatePct_UT         109186 non-null  float64\n",
      " 81  StatePct_VA         109186 non-null  float64\n",
      " 82  StatePct_VI         109186 non-null  float64\n",
      " 83  StatePct_VT         109186 non-null  float64\n",
      " 84  StatePct_WA         109186 non-null  float64\n",
      " 85  StatePct_WI         109186 non-null  float64\n",
      " 86  StatePct_WV         109186 non-null  float64\n",
      " 87  StatePct_WY         109186 non-null  float64\n",
      " 88  SellerPct_AMRHT     109186 non-null  float64\n",
      " 89  SellerPct_ALS       109186 non-null  float64\n",
      " 90  SellerPct_CAFULL    109186 non-null  float64\n",
      " 91  SellerPct_CNTL      109186 non-null  float64\n",
      " 92  SellerPct_CITIZ     109186 non-null  float64\n",
      " 93  SellerPct_53        109186 non-null  float64\n",
      " 94  SellerPct_FIR       109186 non-null  float64\n",
      " 95  SellerPct_FRDOM     109186 non-null  float64\n",
      " 96  SellerPct_GUILD     109186 non-null  float64\n",
      " 97  SellerPct_CHASE     109186 non-null  float64\n",
      " 98  SellerPct_LLSL      109186 non-null  float64\n",
      " 99  SellerPct_MATRX     109186 non-null  float64\n",
      " 100 SellerPct_NCM       109186 non-null  float64\n",
      " 101 SellerPct_NATIONST  109186 non-null  float64\n",
      " 102 SellerPct_NRESM     109186 non-null  float64\n",
      " 103 SellerPct_PNYMAC    109186 non-null  float64\n",
      " 104 SellerPct_PILOSI    109186 non-null  float64\n",
      " 105 SellerPct_QUICK     109186 non-null  float64\n",
      " 106 SellerPct_REG       109186 non-null  float64\n",
      " 107 SellerPct_RMSC      109186 non-null  float64\n",
      " 108 SellerPct_UNSHFI    109186 non-null  float64\n",
      " 109 SellerPct_WFHM      109186 non-null  float64\n",
      "dtypes: float64(103), int64(2), object(5)\n",
      "memory usage: 92.5+ MB\n"
     ]
    }
   ],
   "source": [
    "df.info(verbose=True, null_counts=True)"
   ]
  },
  {
   "cell_type": "code",
   "execution_count": 48,
   "metadata": {},
   "outputs": [],
   "source": [
    "dill.dump_session('notebook_env__df.db')"
   ]
  },
  {
   "cell_type": "code",
   "execution_count": 49,
   "metadata": {},
   "outputs": [
    {
     "name": "stdout",
     "output_type": "stream",
     "text": [
      "ddf.shape = (109186, 110)\n"
     ]
    }
   ],
   "source": [
    "# Write df into a sequence of small files\n",
    "nloans = 250\n",
    "ddf = df[df['cnloans']>=nloans]\n",
    "\n",
    "print(f'ddf.shape = {ddf.shape}')\n",
    "\n",
    "rows = ddf.shape[0]\n",
    "\n",
    "N = rows//30000 + 1\n",
    "\n",
    "for i in range(N):\n",
    "    ddf.iloc[i*30000:(i+1)*30000,].to_csv(f'new data/pools_ge{nloans}_loans_part{i+1}.csv',index=False)"
   ]
  },
  {
   "cell_type": "code",
   "execution_count": null,
   "metadata": {},
   "outputs": [],
   "source": []
  }
 ],
 "metadata": {
  "kernelspec": {
   "display_name": "Python 3",
   "language": "python",
   "name": "python3"
  },
  "language_info": {
   "codemirror_mode": {
    "name": "ipython",
    "version": 3
   },
   "file_extension": ".py",
   "mimetype": "text/x-python",
   "name": "python",
   "nbconvert_exporter": "python",
   "pygments_lexer": "ipython3",
   "version": "3.7.6"
  }
 },
 "nbformat": 4,
 "nbformat_minor": 2
}
