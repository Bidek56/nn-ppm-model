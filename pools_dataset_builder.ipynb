{
 "cells": [
  {
   "cell_type": "code",
   "execution_count": 1,
   "metadata": {},
   "outputs": [],
   "source": [
    "import pandas as pd\n",
    "import numpy as np\n",
    "import matplotlib.pyplot as plt\n",
    "from matplotlib.backends.backend_pdf import PdfPages\n",
    "import seaborn as sns\n",
    "import time\n",
    "import imp\n",
    "import os\n",
    "import os, os.path\n",
    "import datetime as dt\n",
    "import dateutil.parser as dp\n",
    "import dill\n",
    "\n",
    "%matplotlib inline"
   ]
  },
  {
   "cell_type": "code",
   "execution_count": 25,
   "metadata": {},
   "outputs": [
    {
     "name": "stdout",
     "output_type": "stream",
     "text": [
      "# of attr files:  251\n",
      "# of geo pct files:  250\n",
      "# of seller pct files:  252\n"
     ]
    }
   ],
   "source": [
    "# Create lists of data files (3 groups: regular attributes, GEO, and Seller composition)\n",
    "\n",
    "data_directory = \"../30y fixed rate data/fnm/conforming\"\n",
    "\n",
    "# pools attributes \n",
    "pools_attributes_files = list()\n",
    "\n",
    "for root, dirs, files in os.walk(data_directory):\n",
    "    for name in files:\n",
    "        file_name = os.path.join(root, name)\n",
    "        if 'pools attributes' in file_name:\n",
    "            pools_attributes_files.append(file_name)\n",
    "        \n",
    "# pools geographical composition        \n",
    "pools_geo_pct_files = list()\n",
    "\n",
    "for root, dirs, files in os.walk(data_directory):\n",
    "    for name in files:\n",
    "        file_name = os.path.join(root, name)\n",
    "        if 'geo pct' in file_name:\n",
    "            pools_geo_pct_files.append(os.path.join(root, name))  \n",
    "        \n",
    "# pools seller composition        \n",
    "pools_seller_pct_files = list()\n",
    "\n",
    "for root, dirs, files in os.walk(data_directory):\n",
    "    for name in files:\n",
    "        file_name = os.path.join(root, name)\n",
    "        if 'seller pct' in file_name:\n",
    "            pools_seller_pct_files.append(os.path.join(root, name)) \n",
    "        \n",
    "print(\"# of attr files: \",len(pools_attributes_files))\n",
    "print(\"# of geo pct files: \",len(pools_geo_pct_files))\n",
    "print(\"# of seller pct files: \",len(pools_seller_pct_files))"
   ]
  },
  {
   "cell_type": "code",
   "execution_count": 27,
   "metadata": {},
   "outputs": [
    {
     "name": "stderr",
     "output_type": "stream",
     "text": [
      "C:\\Users\\YuriTurygin\\Anaconda3\\lib\\site-packages\\IPython\\core\\interactiveshell.py:3063: DtypeWarning: Columns (14) have mixed types.Specify dtype option on import or set low_memory=False.\n",
      "  interactivity=interactivity, compiler=compiler, result=result)\n",
      "C:\\Users\\YuriTurygin\\Anaconda3\\lib\\site-packages\\IPython\\core\\interactiveshell.py:3063: DtypeWarning: Columns (7) have mixed types.Specify dtype option on import or set low_memory=False.\n",
      "  interactivity=interactivity, compiler=compiler, result=result)\n",
      "C:\\Users\\YuriTurygin\\Anaconda3\\lib\\site-packages\\IPython\\core\\interactiveshell.py:3063: DtypeWarning: Columns (4) have mixed types.Specify dtype option on import or set low_memory=False.\n",
      "  interactivity=interactivity, compiler=compiler, result=result)\n",
      "C:\\Users\\YuriTurygin\\Anaconda3\\lib\\site-packages\\IPython\\core\\interactiveshell.py:3063: DtypeWarning: Columns (9) have mixed types.Specify dtype option on import or set low_memory=False.\n",
      "  interactivity=interactivity, compiler=compiler, result=result)\n"
     ]
    }
   ],
   "source": [
    "# Read in all files with regular pool attributes\n",
    "attr_df = pd.DataFrame()\n",
    "for file in pools_attributes_files:\n",
    "    one_month_issue_pools = pd.read_csv(file)\n",
    "    if len(attr_df)==0:\n",
    "        attr_df = one_month_issue_pools\n",
    "    else:\n",
    "        # df1.columns.difference(df2.columns)\n",
    "        # df2.columns.difference(df1.columns)\n",
    "        if all(attr_df.columns == one_month_issue_pools.columns):\n",
    "            attr_df = pd.concat([attr_df,one_month_issue_pools])\n",
    "        else:\n",
    "            print(f'columns missmatch for {file}')\n",
    "\n",
    "    #print('Done loading ' + file)"
   ]
  },
  {
   "cell_type": "code",
   "execution_count": 28,
   "metadata": {},
   "outputs": [
    {
     "data": {
      "text/plain": [
       "Index(['poolno', 'asofdate', 'cusip', 'Prefix', 'spread', 'Cpr1', 'Cpr3',\n",
       "       'Cpr6', 'Cpr12', 'Cpr24', 'CprLife', 'SMM', 'DayCount', 'OBal', 'CBal',\n",
       "       'pbal', 'paydown', 'Prepay', 'factor', 'OCoupon', 'Coupon', 'OWac',\n",
       "       'Wac', 'Wam', 'Age', 'aols', 'waols', 'ONLoans', 'cnloans', 'PCNLoans',\n",
       "       'PPNLoans', 'OSato', 'CSato', 'oltv', 'cltv', '%cltv_80', '%cltv_105',\n",
       "       '%cltv_125', '%ccltv_80', '%ccltv_105', '%ccltv_125', 'fico',\n",
       "       '%FedHold', '%CMOHold', 'dti', 'codti', '%CashWindow', '%Majors',\n",
       "       'ocltv', 'ccltv', 'PurpPct_purchase', 'PurpPct_refi',\n",
       "       'PctChannel_Broker', 'PctChannel_Corr', 'PctChannel_Retail',\n",
       "       'OccPct_investor', 'OccPct_owner', 'PropUnitsPct_2-4', 'Label'],\n",
       "      dtype='object')"
      ]
     },
     "execution_count": 28,
     "metadata": {},
     "output_type": "execute_result"
    }
   ],
   "source": [
    "attr_df.columns"
   ]
  },
  {
   "cell_type": "code",
   "execution_count": 29,
   "metadata": {},
   "outputs": [
    {
     "name": "stdout",
     "output_type": "stream",
     "text": [
      "attr_df.shape = (12721779, 59)\n"
     ]
    }
   ],
   "source": [
    "print(f'attr_df.shape = {attr_df.shape}')"
   ]
  },
  {
   "cell_type": "code",
   "execution_count": 30,
   "metadata": {},
   "outputs": [
    {
     "name": "stderr",
     "output_type": "stream",
     "text": [
      "C:\\Users\\YuriTurygin\\Anaconda3\\lib\\site-packages\\IPython\\core\\interactiveshell.py:3063: DtypeWarning: Columns (8) have mixed types.Specify dtype option on import or set low_memory=False.\n",
      "  interactivity=interactivity, compiler=compiler, result=result)\n",
      "C:\\Users\\YuriTurygin\\Anaconda3\\lib\\site-packages\\IPython\\core\\interactiveshell.py:3063: DtypeWarning: Columns (8,47) have mixed types.Specify dtype option on import or set low_memory=False.\n",
      "  interactivity=interactivity, compiler=compiler, result=result)\n",
      "C:\\Users\\YuriTurygin\\Anaconda3\\lib\\site-packages\\IPython\\core\\interactiveshell.py:3063: DtypeWarning: Columns (30) have mixed types.Specify dtype option on import or set low_memory=False.\n",
      "  interactivity=interactivity, compiler=compiler, result=result)\n",
      "C:\\Users\\YuriTurygin\\Anaconda3\\lib\\site-packages\\IPython\\core\\interactiveshell.py:3063: DtypeWarning: Columns (56) have mixed types.Specify dtype option on import or set low_memory=False.\n",
      "  interactivity=interactivity, compiler=compiler, result=result)\n",
      "C:\\Users\\YuriTurygin\\Anaconda3\\lib\\site-packages\\IPython\\core\\interactiveshell.py:3063: DtypeWarning: Columns (4,56) have mixed types.Specify dtype option on import or set low_memory=False.\n",
      "  interactivity=interactivity, compiler=compiler, result=result)\n",
      "C:\\Users\\YuriTurygin\\Anaconda3\\lib\\site-packages\\IPython\\core\\interactiveshell.py:3063: DtypeWarning: Columns (25) have mixed types.Specify dtype option on import or set low_memory=False.\n",
      "  interactivity=interactivity, compiler=compiler, result=result)\n"
     ]
    }
   ],
   "source": [
    "# Read in all files with pools GEO info\n",
    "geo_df = pd.DataFrame()\n",
    "for file in pools_geo_pct_files:\n",
    "    one_month_issue_pools = pd.read_csv(file)\n",
    "    if len(geo_df)==0:\n",
    "        geo_df = one_month_issue_pools\n",
    "    else:\n",
    "        # df1.columns.difference(df2.columns)\n",
    "        # df2.columns.difference(df1.columns)\n",
    "        if all(geo_df.columns == one_month_issue_pools.columns):\n",
    "            geo_df = pd.concat([geo_df,one_month_issue_pools])\n",
    "        else:\n",
    "            print(f'columns missmatch for {file}')\n",
    "\n",
    "    #print('Done loading ' + file)"
   ]
  },
  {
   "cell_type": "code",
   "execution_count": 31,
   "metadata": {},
   "outputs": [
    {
     "data": {
      "text/plain": [
       "Index(['poolno', 'asofdate', 'cusip', 'StatePct_AK', 'StatePct_AL',\n",
       "       'StatePct_AR', 'StatePct_AZ', 'StatePct_CA', 'StatePct_CO',\n",
       "       'StatePct_CT', 'StatePct_DC', 'StatePct_DE', 'StatePct_FL',\n",
       "       'StatePct_GA', 'StatePct_GU', 'StatePct_HI', 'StatePct_IA',\n",
       "       'StatePct_ID', 'StatePct_IL', 'StatePct_IN', 'StatePct_KS',\n",
       "       'StatePct_KY', 'StatePct_LA', 'StatePct_MA', 'StatePct_MD',\n",
       "       'StatePct_ME', 'StatePct_MI', 'StatePct_MN', 'StatePct_MO',\n",
       "       'StatePct_MS', 'StatePct_MT', 'StatePct_NC', 'StatePct_ND',\n",
       "       'StatePct_NE', 'StatePct_NH', 'StatePct_NJ', 'StatePct_NM',\n",
       "       'StatePct_NV', 'StatePct_NY', 'StatePct_OH', 'StatePct_OK',\n",
       "       'StatePct_OR', 'StatePct_PA', 'StatePct_PR', 'StatePct_RI',\n",
       "       'StatePct_SC', 'StatePct_SD', 'StatePct_TN', 'StatePct_TX',\n",
       "       'StatePct_UT', 'StatePct_VA', 'StatePct_VI', 'StatePct_VT',\n",
       "       'StatePct_WA', 'StatePct_WI', 'StatePct_WV', 'StatePct_WY', 'Label'],\n",
       "      dtype='object')"
      ]
     },
     "execution_count": 31,
     "metadata": {},
     "output_type": "execute_result"
    }
   ],
   "source": [
    "geo_df.columns"
   ]
  },
  {
   "cell_type": "code",
   "execution_count": 32,
   "metadata": {},
   "outputs": [
    {
     "name": "stdout",
     "output_type": "stream",
     "text": [
      "geo_df.shape = (11040282, 58)\n"
     ]
    }
   ],
   "source": [
    "print(f'geo_df.shape = {geo_df.shape}')"
   ]
  },
  {
   "cell_type": "code",
   "execution_count": 33,
   "metadata": {},
   "outputs": [
    {
     "name": "stderr",
     "output_type": "stream",
     "text": [
      "C:\\Users\\YuriTurygin\\Anaconda3\\lib\\site-packages\\IPython\\core\\interactiveshell.py:3063: DtypeWarning: Columns (13,16) have mixed types.Specify dtype option on import or set low_memory=False.\n",
      "  interactivity=interactivity, compiler=compiler, result=result)\n",
      "C:\\Users\\YuriTurygin\\Anaconda3\\lib\\site-packages\\IPython\\core\\interactiveshell.py:3063: DtypeWarning: Columns (2,13) have mixed types.Specify dtype option on import or set low_memory=False.\n",
      "  interactivity=interactivity, compiler=compiler, result=result)\n",
      "C:\\Users\\YuriTurygin\\Anaconda3\\lib\\site-packages\\IPython\\core\\interactiveshell.py:3063: DtypeWarning: Columns (2,13,19) have mixed types.Specify dtype option on import or set low_memory=False.\n",
      "  interactivity=interactivity, compiler=compiler, result=result)\n",
      "C:\\Users\\YuriTurygin\\Anaconda3\\lib\\site-packages\\IPython\\core\\interactiveshell.py:3063: DtypeWarning: Columns (2) have mixed types.Specify dtype option on import or set low_memory=False.\n",
      "  interactivity=interactivity, compiler=compiler, result=result)\n",
      "C:\\Users\\YuriTurygin\\Anaconda3\\lib\\site-packages\\IPython\\core\\interactiveshell.py:3063: DtypeWarning: Columns (13) have mixed types.Specify dtype option on import or set low_memory=False.\n",
      "  interactivity=interactivity, compiler=compiler, result=result)\n",
      "C:\\Users\\YuriTurygin\\Anaconda3\\lib\\site-packages\\IPython\\core\\interactiveshell.py:3063: DtypeWarning: Columns (10,13) have mixed types.Specify dtype option on import or set low_memory=False.\n",
      "  interactivity=interactivity, compiler=compiler, result=result)\n",
      "C:\\Users\\YuriTurygin\\Anaconda3\\lib\\site-packages\\IPython\\core\\interactiveshell.py:3063: DtypeWarning: Columns (16) have mixed types.Specify dtype option on import or set low_memory=False.\n",
      "  interactivity=interactivity, compiler=compiler, result=result)\n"
     ]
    }
   ],
   "source": [
    "# Read in all files with pools Seller info\n",
    "seller_df = pd.DataFrame()\n",
    "for file in pools_seller_pct_files:\n",
    "    one_month_issue_pools = pd.read_csv(file)\n",
    "    if len(seller_df)==0:\n",
    "        seller_df = one_month_issue_pools\n",
    "    else:\n",
    "        # df1.columns.difference(df2.columns)\n",
    "        # df2.columns.difference(df1.columns)\n",
    "        if all(seller_df.columns == one_month_issue_pools.columns):\n",
    "            seller_df = pd.concat([seller_df,one_month_issue_pools])\n",
    "        else:\n",
    "            print(f'columns missmatch for {file}')\n",
    "    #print('Done loading ' + file)"
   ]
  },
  {
   "cell_type": "code",
   "execution_count": 34,
   "metadata": {},
   "outputs": [
    {
     "data": {
      "text/plain": [
       "Index(['poolno', 'asofdate', 'SellerPct_AMRHT', 'SellerPct_ALS',\n",
       "       'SellerPct_CAFULL', 'SellerPct_CNTL', 'SellerPct_CITIZ', 'SellerPct_53',\n",
       "       'SellerPct_FIR', 'SellerPct_FRDOM', 'SellerPct_GUILD',\n",
       "       'SellerPct_CHASE', 'SellerPct_LLSL', 'SellerPct_MATRX', 'SellerPct_NCM',\n",
       "       'SellerPct_NATIONST', 'SellerPct_NRESM', 'SellerPct_PNYMAC',\n",
       "       'SellerPct_PILOSI', 'SellerPct_QUICK', 'SellerPct_REG',\n",
       "       'SellerPct_RMSC', 'SellerPct_UNSHFI', 'SellerPct_WFHM', 'cusip',\n",
       "       'Prefix', 'Label'],\n",
       "      dtype='object')"
      ]
     },
     "execution_count": 34,
     "metadata": {},
     "output_type": "execute_result"
    }
   ],
   "source": [
    "seller_df.columns"
   ]
  },
  {
   "cell_type": "code",
   "execution_count": 35,
   "metadata": {},
   "outputs": [
    {
     "name": "stdout",
     "output_type": "stream",
     "text": [
      "seller_df.shape = (11123306, 27)\n"
     ]
    }
   ],
   "source": [
    "print(f'seller_df.shape = {seller_df.shape}')"
   ]
  },
  {
   "cell_type": "code",
   "execution_count": 36,
   "metadata": {},
   "outputs": [
    {
     "name": "stdout",
     "output_type": "stream",
     "text": [
      "attr_df.shape = (12721779, 59)\n"
     ]
    }
   ],
   "source": [
    "print(f'attr_df.shape = {attr_df.shape}')"
   ]
  },
  {
   "cell_type": "code",
   "execution_count": 37,
   "metadata": {},
   "outputs": [
    {
     "name": "stdout",
     "output_type": "stream",
     "text": [
      "geo_df.shape = (11040282, 58)\n"
     ]
    }
   ],
   "source": [
    "print(f'geo_df.shape = {geo_df.shape}')"
   ]
  },
  {
   "cell_type": "code",
   "execution_count": 38,
   "metadata": {},
   "outputs": [
    {
     "name": "stdout",
     "output_type": "stream",
     "text": [
      "<class 'pandas.core.frame.DataFrame'>\n",
      "Int64Index: 12721779 entries, 0 to 1657\n",
      "Data columns (total 59 columns):\n",
      " #   Column             Non-Null Count     Dtype  \n",
      "---  ------             --------------     -----  \n",
      " 0   poolno             12721779 non-null  object \n",
      " 1   asofdate           12721779 non-null  int64  \n",
      " 2   cusip              12721779 non-null  object \n",
      " 3   Prefix             12721779 non-null  object \n",
      " 4   spread             12716611 non-null  object \n",
      " 5   Cpr1               12717900 non-null  float64\n",
      " 6   Cpr3               12374521 non-null  float64\n",
      " 7   Cpr6               11866842 non-null  object \n",
      " 8   Cpr12              10887508 non-null  float64\n",
      " 9   Cpr24              9073002 non-null   object \n",
      " 10  CprLife            12716605 non-null  float64\n",
      " 11  SMM                12720854 non-null  float64\n",
      " 12  DayCount           12721770 non-null  float64\n",
      " 13  OBal               12721770 non-null  float64\n",
      " 14  CBal               12716603 non-null  object \n",
      " 15  pbal               12721764 non-null  float64\n",
      " 16  paydown            12721764 non-null  float64\n",
      " 17  Prepay             12720848 non-null  float64\n",
      " 18  factor             12721764 non-null  float64\n",
      " 19  OCoupon            12716597 non-null  float64\n",
      " 20  Coupon             12716597 non-null  float64\n",
      " 21  OWac               12716596 non-null  float64\n",
      " 22  Wac                12721762 non-null  float64\n",
      " 23  Wam                12721762 non-null  float64\n",
      " 24  Age                12721762 non-null  float64\n",
      " 25  aols               12710105 non-null  float64\n",
      " 26  waols              12716596 non-null  object \n",
      " 27  ONLoans            12715270 non-null  float64\n",
      " 28  cnloans            12710104 non-null  float64\n",
      " 29  PCNLoans           12721761 non-null  object \n",
      " 30  PPNLoans           3259468 non-null   float64\n",
      " 31  OSato              12721759 non-null  float64\n",
      " 32  CSato              12716593 non-null  float64\n",
      " 33  oltv               12707273 non-null  float64\n",
      " 34  cltv               12711051 non-null  float64\n",
      " 35  %cltv_80           12711050 non-null  float64\n",
      " 36  %cltv_105          12711049 non-null  float64\n",
      " 37  %cltv_125          12711049 non-null  float64\n",
      " 38  %ccltv_80          9017155 non-null   float64\n",
      " 39  %ccltv_105         9017155 non-null   float64\n",
      " 40  %ccltv_125         9017154 non-null   float64\n",
      " 41  fico               12695056 non-null  float64\n",
      " 42  %FedHold           4934877 non-null   float64\n",
      " 43  %CMOHold           12716588 non-null  float64\n",
      " 44  dti                7876261 non-null   float64\n",
      " 45  codti              7876260 non-null   float64\n",
      " 46  %CashWindow        12716587 non-null  float64\n",
      " 47  %Majors            12716587 non-null  object \n",
      " 48  ocltv              8386397 non-null   float64\n",
      " 49  ccltv              7681093 non-null   float64\n",
      " 50  PurpPct_purchase   12716584 non-null  float64\n",
      " 51  PurpPct_refi       12716584 non-null  float64\n",
      " 52  PctChannel_Broker  11682291 non-null  float64\n",
      " 53  PctChannel_Corr    11682290 non-null  float64\n",
      " 54  PctChannel_Retail  11682289 non-null  float64\n",
      " 55  OccPct_investor    12716581 non-null  float64\n",
      " 56  OccPct_owner       12716580 non-null  float64\n",
      " 57  PropUnitsPct_2-4   12716580 non-null  float64\n",
      " 58  Label              12721779 non-null  int64  \n",
      "dtypes: float64(47), int64(2), object(10)\n",
      "memory usage: 5.7+ GB\n"
     ]
    }
   ],
   "source": [
    "attr_df.info(verbose=True, null_counts=True)"
   ]
  },
  {
   "cell_type": "code",
   "execution_count": 39,
   "metadata": {},
   "outputs": [],
   "source": [
    "attr_df.drop(['Prefix','Cpr1','Cpr3','Cpr6','Cpr12','Cpr24','CprLife','pbal','paydown','Prepay','OCoupon','OWac','PCNLoans','PPNLoans','OSato','%cltv_80','%cltv_105','%cltv_125','%ccltv_80','%ccltv_105','%ccltv_125','%FedHold','%CMOHold','dti','codti'],axis=1,inplace=True)"
   ]
  },
  {
   "cell_type": "code",
   "execution_count": 40,
   "metadata": {},
   "outputs": [],
   "source": [
    "attr_df.dropna(subset=['CBal','SMM','Wac','aols','fico','OccPct_investor','OccPct_owner','PropUnitsPct_2-4'],inplace=True)"
   ]
  },
  {
   "cell_type": "code",
   "execution_count": 41,
   "metadata": {},
   "outputs": [],
   "source": [
    "attr_df.sort_values(by=['poolno','asofdate'],inplace=True)"
   ]
  },
  {
   "cell_type": "code",
   "execution_count": 42,
   "metadata": {},
   "outputs": [],
   "source": [
    "attr_df.fillna(method='ffill',inplace=True)"
   ]
  },
  {
   "cell_type": "code",
   "execution_count": 43,
   "metadata": {},
   "outputs": [],
   "source": [
    "attr_df['CBal'] = attr_df['CBal'].apply(lambda x: float(x))"
   ]
  },
  {
   "cell_type": "code",
   "execution_count": 44,
   "metadata": {},
   "outputs": [],
   "source": [
    "attr_df.rename(columns={'Label':'pool_issue_month'},inplace=True)"
   ]
  },
  {
   "cell_type": "code",
   "execution_count": 45,
   "metadata": {},
   "outputs": [
    {
     "name": "stdout",
     "output_type": "stream",
     "text": [
      "<class 'pandas.core.frame.DataFrame'>\n",
      "Int64Index: 12687671 entries, 1482 to 21251\n",
      "Data columns (total 34 columns):\n",
      " #   Column             Non-Null Count     Dtype  \n",
      "---  ------             --------------     -----  \n",
      " 0   poolno             12687671 non-null  object \n",
      " 1   asofdate           12687671 non-null  int64  \n",
      " 2   cusip              12687671 non-null  object \n",
      " 3   spread             12687671 non-null  object \n",
      " 4   SMM                12687671 non-null  float64\n",
      " 5   DayCount           12687671 non-null  float64\n",
      " 6   OBal               12687671 non-null  float64\n",
      " 7   CBal               12687671 non-null  float64\n",
      " 8   factor             12687671 non-null  float64\n",
      " 9   Coupon             12687671 non-null  float64\n",
      " 10  Wac                12687671 non-null  float64\n",
      " 11  Wam                12687671 non-null  float64\n",
      " 12  Age                12687671 non-null  float64\n",
      " 13  aols               12687671 non-null  float64\n",
      " 14  waols              12687671 non-null  object \n",
      " 15  ONLoans            12687671 non-null  float64\n",
      " 16  cnloans            12687671 non-null  float64\n",
      " 17  CSato              12687671 non-null  float64\n",
      " 18  oltv               12687671 non-null  float64\n",
      " 19  cltv               12687671 non-null  float64\n",
      " 20  fico               12687671 non-null  float64\n",
      " 21  %CashWindow        12687671 non-null  float64\n",
      " 22  %Majors            12687671 non-null  object \n",
      " 23  ocltv              12687671 non-null  float64\n",
      " 24  ccltv              12687671 non-null  float64\n",
      " 25  PurpPct_purchase   12687671 non-null  float64\n",
      " 26  PurpPct_refi       12687671 non-null  float64\n",
      " 27  PctChannel_Broker  12687642 non-null  float64\n",
      " 28  PctChannel_Corr    12687642 non-null  float64\n",
      " 29  PctChannel_Retail  12687642 non-null  float64\n",
      " 30  OccPct_investor    12687671 non-null  float64\n",
      " 31  OccPct_owner       12687671 non-null  float64\n",
      " 32  PropUnitsPct_2-4   12687671 non-null  float64\n",
      " 33  pool_issue_month   12687671 non-null  int64  \n",
      "dtypes: float64(27), int64(2), object(5)\n",
      "memory usage: 3.3+ GB\n"
     ]
    }
   ],
   "source": [
    "attr_df.info(verbose=True, null_counts=True)"
   ]
  },
  {
   "cell_type": "code",
   "execution_count": 46,
   "metadata": {},
   "outputs": [],
   "source": [
    "geo_df.drop('Label',axis=1,inplace=True)"
   ]
  },
  {
   "cell_type": "code",
   "execution_count": 47,
   "metadata": {},
   "outputs": [],
   "source": [
    "geo_df.sort_values(by=['poolno','asofdate'],inplace=True)"
   ]
  },
  {
   "cell_type": "code",
   "execution_count": 48,
   "metadata": {},
   "outputs": [],
   "source": [
    "geo_df.fillna(method='ffill',inplace=True)"
   ]
  },
  {
   "cell_type": "code",
   "execution_count": 49,
   "metadata": {},
   "outputs": [
    {
     "name": "stdout",
     "output_type": "stream",
     "text": [
      "<class 'pandas.core.frame.DataFrame'>\n",
      "Int64Index: 11040282 entries, 1482 to 4436\n",
      "Data columns (total 57 columns):\n",
      " #   Column       Non-Null Count     Dtype  \n",
      "---  ------       --------------     -----  \n",
      " 0   poolno       11040282 non-null  object \n",
      " 1   asofdate     11040282 non-null  int64  \n",
      " 2   cusip        11040282 non-null  object \n",
      " 3   StatePct_AK  11040282 non-null  float64\n",
      " 4   StatePct_AL  11040282 non-null  object \n",
      " 5   StatePct_AR  11040282 non-null  float64\n",
      " 6   StatePct_AZ  11040282 non-null  float64\n",
      " 7   StatePct_CA  11040282 non-null  float64\n",
      " 8   StatePct_CO  11040282 non-null  object \n",
      " 9   StatePct_CT  11040282 non-null  float64\n",
      " 10  StatePct_DC  11040282 non-null  float64\n",
      " 11  StatePct_DE  11040282 non-null  float64\n",
      " 12  StatePct_FL  11040282 non-null  float64\n",
      " 13  StatePct_GA  11040282 non-null  float64\n",
      " 14  StatePct_GU  11040282 non-null  float64\n",
      " 15  StatePct_HI  11040282 non-null  float64\n",
      " 16  StatePct_IA  11040282 non-null  float64\n",
      " 17  StatePct_ID  11040282 non-null  float64\n",
      " 18  StatePct_IL  11040282 non-null  float64\n",
      " 19  StatePct_IN  11040282 non-null  float64\n",
      " 20  StatePct_KS  11040282 non-null  float64\n",
      " 21  StatePct_KY  11040282 non-null  object \n",
      " 22  StatePct_LA  11040282 non-null  object \n",
      " 23  StatePct_MA  11040282 non-null  float64\n",
      " 24  StatePct_MD  11040282 non-null  float64\n",
      " 25  StatePct_ME  11040282 non-null  object \n",
      " 26  StatePct_MI  11040282 non-null  object \n",
      " 27  StatePct_MN  11040282 non-null  float64\n",
      " 28  StatePct_MO  11040282 non-null  float64\n",
      " 29  StatePct_MS  11040282 non-null  float64\n",
      " 30  StatePct_MT  11040282 non-null  object \n",
      " 31  StatePct_NC  11040282 non-null  float64\n",
      " 32  StatePct_ND  11040282 non-null  float64\n",
      " 33  StatePct_NE  11040282 non-null  float64\n",
      " 34  StatePct_NH  11040282 non-null  float64\n",
      " 35  StatePct_NJ  11040282 non-null  float64\n",
      " 36  StatePct_NM  11040282 non-null  float64\n",
      " 37  StatePct_NV  11040282 non-null  float64\n",
      " 38  StatePct_NY  11040282 non-null  float64\n",
      " 39  StatePct_OH  11040282 non-null  float64\n",
      " 40  StatePct_OK  11040282 non-null  float64\n",
      " 41  StatePct_OR  11040282 non-null  float64\n",
      " 42  StatePct_PA  11040282 non-null  float64\n",
      " 43  StatePct_PR  11040282 non-null  object \n",
      " 44  StatePct_RI  11040282 non-null  object \n",
      " 45  StatePct_SC  11040282 non-null  float64\n",
      " 46  StatePct_SD  11040282 non-null  float64\n",
      " 47  StatePct_TN  11040282 non-null  object \n",
      " 48  StatePct_TX  11040282 non-null  object \n",
      " 49  StatePct_UT  11040282 non-null  float64\n",
      " 50  StatePct_VA  11040282 non-null  float64\n",
      " 51  StatePct_VI  11040282 non-null  float64\n",
      " 52  StatePct_VT  11040282 non-null  object \n",
      " 53  StatePct_WA  11040282 non-null  float64\n",
      " 54  StatePct_WI  11040282 non-null  float64\n",
      " 55  StatePct_WV  11040282 non-null  float64\n",
      " 56  StatePct_WY  11040282 non-null  object \n",
      "dtypes: float64(41), int64(1), object(15)\n",
      "memory usage: 4.8+ GB\n"
     ]
    }
   ],
   "source": [
    "geo_df.info(verbose=True, null_counts=True)"
   ]
  },
  {
   "cell_type": "code",
   "execution_count": 50,
   "metadata": {},
   "outputs": [],
   "source": [
    "geo_columns = ['StatePct_AK','StatePct_AL','StatePct_AR','StatePct_AZ','StatePct_CA','StatePct_CO','StatePct_CT',\n",
    "                'StatePct_DC','StatePct_DE','StatePct_FL','StatePct_GA','StatePct_GU','StatePct_HI','StatePct_IA',\n",
    "                'StatePct_ID','StatePct_IL','StatePct_IN','StatePct_KS','StatePct_KY','StatePct_LA','StatePct_MA',\n",
    "                'StatePct_MD','StatePct_ME','StatePct_MI','StatePct_MN','StatePct_MO','StatePct_MS','StatePct_MT',\n",
    "                'StatePct_NC','StatePct_ND','StatePct_NE','StatePct_NH','StatePct_NJ','StatePct_NM','StatePct_NV',\n",
    "                'StatePct_NY','StatePct_OH','StatePct_OK','StatePct_OR','StatePct_PA','StatePct_PR','StatePct_RI',\n",
    "                'StatePct_SC','StatePct_SD','StatePct_TN','StatePct_TX','StatePct_UT','StatePct_VA','StatePct_VI',\n",
    "                'StatePct_VT','StatePct_WA','StatePct_WI','StatePct_WV','StatePct_WY']"
   ]
  },
  {
   "cell_type": "code",
   "execution_count": 51,
   "metadata": {},
   "outputs": [],
   "source": [
    "def isfloat(value):\n",
    "  try:\n",
    "    float(value)\n",
    "    return True\n",
    "  except ValueError:\n",
    "    return False"
   ]
  },
  {
   "cell_type": "code",
   "execution_count": 52,
   "metadata": {},
   "outputs": [],
   "source": [
    "geo_df[geo_columns] = geo_df[geo_columns].applymap(lambda x: float(x) if isfloat(x) else np.nan)"
   ]
  },
  {
   "cell_type": "code",
   "execution_count": 53,
   "metadata": {},
   "outputs": [],
   "source": [
    "geo_df.fillna(0,inplace=True)"
   ]
  },
  {
   "cell_type": "code",
   "execution_count": 54,
   "metadata": {},
   "outputs": [
    {
     "name": "stdout",
     "output_type": "stream",
     "text": [
      "<class 'pandas.core.frame.DataFrame'>\n",
      "Int64Index: 11040282 entries, 1482 to 4436\n",
      "Data columns (total 57 columns):\n",
      " #   Column       Non-Null Count     Dtype  \n",
      "---  ------       --------------     -----  \n",
      " 0   poolno       11040282 non-null  object \n",
      " 1   asofdate     11040282 non-null  int64  \n",
      " 2   cusip        11040282 non-null  object \n",
      " 3   StatePct_AK  11040282 non-null  float64\n",
      " 4   StatePct_AL  11040282 non-null  float64\n",
      " 5   StatePct_AR  11040282 non-null  float64\n",
      " 6   StatePct_AZ  11040282 non-null  float64\n",
      " 7   StatePct_CA  11040282 non-null  float64\n",
      " 8   StatePct_CO  11040282 non-null  float64\n",
      " 9   StatePct_CT  11040282 non-null  float64\n",
      " 10  StatePct_DC  11040282 non-null  float64\n",
      " 11  StatePct_DE  11040282 non-null  float64\n",
      " 12  StatePct_FL  11040282 non-null  float64\n",
      " 13  StatePct_GA  11040282 non-null  float64\n",
      " 14  StatePct_GU  11040282 non-null  float64\n",
      " 15  StatePct_HI  11040282 non-null  float64\n",
      " 16  StatePct_IA  11040282 non-null  float64\n",
      " 17  StatePct_ID  11040282 non-null  float64\n",
      " 18  StatePct_IL  11040282 non-null  float64\n",
      " 19  StatePct_IN  11040282 non-null  float64\n",
      " 20  StatePct_KS  11040282 non-null  float64\n",
      " 21  StatePct_KY  11040282 non-null  float64\n",
      " 22  StatePct_LA  11040282 non-null  float64\n",
      " 23  StatePct_MA  11040282 non-null  float64\n",
      " 24  StatePct_MD  11040282 non-null  float64\n",
      " 25  StatePct_ME  11040282 non-null  float64\n",
      " 26  StatePct_MI  11040282 non-null  float64\n",
      " 27  StatePct_MN  11040282 non-null  float64\n",
      " 28  StatePct_MO  11040282 non-null  float64\n",
      " 29  StatePct_MS  11040282 non-null  float64\n",
      " 30  StatePct_MT  11040282 non-null  float64\n",
      " 31  StatePct_NC  11040282 non-null  float64\n",
      " 32  StatePct_ND  11040282 non-null  float64\n",
      " 33  StatePct_NE  11040282 non-null  float64\n",
      " 34  StatePct_NH  11040282 non-null  float64\n",
      " 35  StatePct_NJ  11040282 non-null  float64\n",
      " 36  StatePct_NM  11040282 non-null  float64\n",
      " 37  StatePct_NV  11040282 non-null  float64\n",
      " 38  StatePct_NY  11040282 non-null  float64\n",
      " 39  StatePct_OH  11040282 non-null  float64\n",
      " 40  StatePct_OK  11040282 non-null  float64\n",
      " 41  StatePct_OR  11040282 non-null  float64\n",
      " 42  StatePct_PA  11040282 non-null  float64\n",
      " 43  StatePct_PR  11040282 non-null  float64\n",
      " 44  StatePct_RI  11040282 non-null  float64\n",
      " 45  StatePct_SC  11040282 non-null  float64\n",
      " 46  StatePct_SD  11040282 non-null  float64\n",
      " 47  StatePct_TN  11040282 non-null  float64\n",
      " 48  StatePct_TX  11040282 non-null  float64\n",
      " 49  StatePct_UT  11040282 non-null  float64\n",
      " 50  StatePct_VA  11040282 non-null  float64\n",
      " 51  StatePct_VI  11040282 non-null  float64\n",
      " 52  StatePct_VT  11040282 non-null  float64\n",
      " 53  StatePct_WA  11040282 non-null  float64\n",
      " 54  StatePct_WI  11040282 non-null  float64\n",
      " 55  StatePct_WV  11040282 non-null  float64\n",
      " 56  StatePct_WY  11040282 non-null  float64\n",
      "dtypes: float64(54), int64(1), object(2)\n",
      "memory usage: 4.8+ GB\n"
     ]
    }
   ],
   "source": [
    "geo_df.info(verbose=True, null_counts=True)"
   ]
  },
  {
   "cell_type": "code",
   "execution_count": 55,
   "metadata": {},
   "outputs": [
    {
     "name": "stdout",
     "output_type": "stream",
     "text": [
      "<class 'pandas.core.frame.DataFrame'>\n",
      "Int64Index: 11123306 entries, 0 to 1657\n",
      "Data columns (total 27 columns):\n",
      " #   Column              Non-Null Count     Dtype  \n",
      "---  ------              --------------     -----  \n",
      " 0   poolno              11123306 non-null  object \n",
      " 1   asofdate            11123306 non-null  int64  \n",
      " 2   SellerPct_AMRHT     11119432 non-null  object \n",
      " 3   SellerPct_ALS       11119427 non-null  float64\n",
      " 4   SellerPct_CAFULL    11119427 non-null  float64\n",
      " 5   SellerPct_CNTL      11119424 non-null  float64\n",
      " 6   SellerPct_CITIZ     11119424 non-null  float64\n",
      " 7   SellerPct_53        11119424 non-null  float64\n",
      " 8   SellerPct_FIR       11119406 non-null  float64\n",
      " 9   SellerPct_FRDOM     11119406 non-null  float64\n",
      " 10  SellerPct_GUILD     11119406 non-null  object \n",
      " 11  SellerPct_CHASE     11119398 non-null  float64\n",
      " 12  SellerPct_LLSL      11119398 non-null  float64\n",
      " 13  SellerPct_MATRX     11119398 non-null  object \n",
      " 14  SellerPct_NCM       11119384 non-null  float64\n",
      " 15  SellerPct_NATIONST  11119384 non-null  float64\n",
      " 16  SellerPct_NRESM     11119380 non-null  object \n",
      " 17  SellerPct_PNYMAC    11119376 non-null  float64\n",
      " 18  SellerPct_PILOSI    11119376 non-null  float64\n",
      " 19  SellerPct_QUICK     11119358 non-null  object \n",
      " 20  SellerPct_REG       11119357 non-null  float64\n",
      " 21  SellerPct_RMSC      11119357 non-null  float64\n",
      " 22  SellerPct_UNSHFI    11119344 non-null  object \n",
      " 23  SellerPct_WFHM      11119343 non-null  float64\n",
      " 24  cusip               11123208 non-null  object \n",
      " 25  Prefix              11123169 non-null  object \n",
      " 26  Label               11123306 non-null  int64  \n",
      "dtypes: float64(16), int64(2), object(9)\n",
      "memory usage: 2.3+ GB\n"
     ]
    }
   ],
   "source": [
    "seller_df.info(verbose=True, null_counts=True)"
   ]
  },
  {
   "cell_type": "code",
   "execution_count": 56,
   "metadata": {},
   "outputs": [],
   "source": [
    "seller_df.drop(['Label','Prefix'],axis=1,inplace=True)"
   ]
  },
  {
   "cell_type": "code",
   "execution_count": 57,
   "metadata": {},
   "outputs": [],
   "source": [
    "seller_df.sort_values(by=['poolno','asofdate'],inplace=True)"
   ]
  },
  {
   "cell_type": "code",
   "execution_count": 58,
   "metadata": {},
   "outputs": [],
   "source": [
    "seller_df.fillna(method='ffill',inplace=True)"
   ]
  },
  {
   "cell_type": "code",
   "execution_count": 59,
   "metadata": {},
   "outputs": [],
   "source": [
    "seller_columns = ['SellerPct_AMRHT','SellerPct_ALS','SellerPct_CAFULL','SellerPct_CNTL','SellerPct_CITIZ',\n",
    "                  'SellerPct_53','SellerPct_FIR','SellerPct_FRDOM','SellerPct_GUILD','SellerPct_CHASE',\n",
    "                  'SellerPct_LLSL','SellerPct_MATRX','SellerPct_NCM','SellerPct_NATIONST','SellerPct_NRESM',\n",
    "                  'SellerPct_PNYMAC','SellerPct_PILOSI','SellerPct_QUICK','SellerPct_REG','SellerPct_RMSC',\n",
    "                  'SellerPct_UNSHFI','SellerPct_WFHM']"
   ]
  },
  {
   "cell_type": "code",
   "execution_count": 60,
   "metadata": {},
   "outputs": [],
   "source": [
    "seller_df[seller_columns] = seller_df[seller_columns].applymap(lambda x: float(x) if isfloat(x) else np.nan)"
   ]
  },
  {
   "cell_type": "code",
   "execution_count": 61,
   "metadata": {},
   "outputs": [],
   "source": [
    "seller_df.fillna(0,inplace=True)"
   ]
  },
  {
   "cell_type": "code",
   "execution_count": 62,
   "metadata": {},
   "outputs": [
    {
     "name": "stdout",
     "output_type": "stream",
     "text": [
      "<class 'pandas.core.frame.DataFrame'>\n",
      "Int64Index: 11123306 entries, 1482 to 4436\n",
      "Data columns (total 25 columns):\n",
      " #   Column              Non-Null Count     Dtype  \n",
      "---  ------              --------------     -----  \n",
      " 0   poolno              11123306 non-null  object \n",
      " 1   asofdate            11123306 non-null  int64  \n",
      " 2   SellerPct_AMRHT     11123306 non-null  float64\n",
      " 3   SellerPct_ALS       11123306 non-null  float64\n",
      " 4   SellerPct_CAFULL    11123306 non-null  float64\n",
      " 5   SellerPct_CNTL      11123306 non-null  float64\n",
      " 6   SellerPct_CITIZ     11123306 non-null  float64\n",
      " 7   SellerPct_53        11123306 non-null  float64\n",
      " 8   SellerPct_FIR       11123306 non-null  float64\n",
      " 9   SellerPct_FRDOM     11123306 non-null  float64\n",
      " 10  SellerPct_GUILD     11123306 non-null  float64\n",
      " 11  SellerPct_CHASE     11123306 non-null  float64\n",
      " 12  SellerPct_LLSL      11123306 non-null  float64\n",
      " 13  SellerPct_MATRX     11123306 non-null  float64\n",
      " 14  SellerPct_NCM       11123306 non-null  float64\n",
      " 15  SellerPct_NATIONST  11123306 non-null  float64\n",
      " 16  SellerPct_NRESM     11123306 non-null  float64\n",
      " 17  SellerPct_PNYMAC    11123306 non-null  float64\n",
      " 18  SellerPct_PILOSI    11123306 non-null  float64\n",
      " 19  SellerPct_QUICK     11123306 non-null  float64\n",
      " 20  SellerPct_REG       11123306 non-null  float64\n",
      " 21  SellerPct_RMSC      11123306 non-null  float64\n",
      " 22  SellerPct_UNSHFI    11123306 non-null  float64\n",
      " 23  SellerPct_WFHM      11123306 non-null  float64\n",
      " 24  cusip               11123306 non-null  object \n",
      "dtypes: float64(22), int64(1), object(2)\n",
      "memory usage: 2.2+ GB\n"
     ]
    }
   ],
   "source": [
    "seller_df.info(verbose=True, null_counts=True)"
   ]
  },
  {
   "cell_type": "code",
   "execution_count": 67,
   "metadata": {},
   "outputs": [],
   "source": [
    "# dill.dump_session('notebook_env_all_3_dfs.db')"
   ]
  },
  {
   "cell_type": "markdown",
   "metadata": {},
   "source": [
    "# Below we are combining the three DataFrames (attr_df, geo_df, seller_df) into a single DataFrame called df"
   ]
  },
  {
   "cell_type": "code",
   "execution_count": 71,
   "metadata": {},
   "outputs": [],
   "source": [
    "#dill.load_session('notebook_env_all_3_dfs.db')"
   ]
  },
  {
   "cell_type": "code",
   "execution_count": 72,
   "metadata": {},
   "outputs": [
    {
     "name": "stdout",
     "output_type": "stream",
     "text": [
      "attr_df.shape   = (12687671, 34)\n",
      "geo_df.shape    = (11040282, 57)\n",
      "seller_df.shape = (11123306, 25)\n"
     ]
    }
   ],
   "source": [
    "print(f'attr_df.shape   = {attr_df.shape}')\n",
    "print(f'geo_df.shape    = {geo_df.shape}')\n",
    "print(f'seller_df.shape = {seller_df.shape}')"
   ]
  },
  {
   "cell_type": "code",
   "execution_count": 73,
   "metadata": {},
   "outputs": [],
   "source": [
    "geo_df.drop('poolno',axis=1,inplace=True)"
   ]
  },
  {
   "cell_type": "code",
   "execution_count": 74,
   "metadata": {},
   "outputs": [],
   "source": [
    "df = pd.merge(attr_df,geo_df,on=['cusip','asofdate'],how='left')"
   ]
  },
  {
   "cell_type": "code",
   "execution_count": 75,
   "metadata": {},
   "outputs": [
    {
     "name": "stdout",
     "output_type": "stream",
     "text": [
      "<class 'pandas.core.frame.DataFrame'>\n",
      "Int64Index: 12687671 entries, 0 to 12687670\n",
      "Data columns (total 88 columns):\n",
      " #   Column             Non-Null Count     Dtype  \n",
      "---  ------             --------------     -----  \n",
      " 0   poolno             12687671 non-null  object \n",
      " 1   asofdate           12687671 non-null  int64  \n",
      " 2   cusip              12687671 non-null  object \n",
      " 3   spread             12687671 non-null  object \n",
      " 4   SMM                12687671 non-null  float64\n",
      " 5   DayCount           12687671 non-null  float64\n",
      " 6   OBal               12687671 non-null  float64\n",
      " 7   CBal               12687671 non-null  float64\n",
      " 8   factor             12687671 non-null  float64\n",
      " 9   Coupon             12687671 non-null  float64\n",
      " 10  Wac                12687671 non-null  float64\n",
      " 11  Wam                12687671 non-null  float64\n",
      " 12  Age                12687671 non-null  float64\n",
      " 13  aols               12687671 non-null  float64\n",
      " 14  waols              12687671 non-null  object \n",
      " 15  ONLoans            12687671 non-null  float64\n",
      " 16  cnloans            12687671 non-null  float64\n",
      " 17  CSato              12687671 non-null  float64\n",
      " 18  oltv               12687671 non-null  float64\n",
      " 19  cltv               12687671 non-null  float64\n",
      " 20  fico               12687671 non-null  float64\n",
      " 21  %CashWindow        12687671 non-null  float64\n",
      " 22  %Majors            12687671 non-null  object \n",
      " 23  ocltv              12687671 non-null  float64\n",
      " 24  ccltv              12687671 non-null  float64\n",
      " 25  PurpPct_purchase   12687671 non-null  float64\n",
      " 26  PurpPct_refi       12687671 non-null  float64\n",
      " 27  PctChannel_Broker  12687642 non-null  float64\n",
      " 28  PctChannel_Corr    12687642 non-null  float64\n",
      " 29  PctChannel_Retail  12687642 non-null  float64\n",
      " 30  OccPct_investor    12687671 non-null  float64\n",
      " 31  OccPct_owner       12687671 non-null  float64\n",
      " 32  PropUnitsPct_2-4   12687671 non-null  float64\n",
      " 33  pool_issue_month   12687671 non-null  int64  \n",
      " 34  StatePct_AK        11790432 non-null  float64\n",
      " 35  StatePct_AL        11790432 non-null  float64\n",
      " 36  StatePct_AR        11790432 non-null  float64\n",
      " 37  StatePct_AZ        11790432 non-null  float64\n",
      " 38  StatePct_CA        11790432 non-null  float64\n",
      " 39  StatePct_CO        11790432 non-null  float64\n",
      " 40  StatePct_CT        11790432 non-null  float64\n",
      " 41  StatePct_DC        11790432 non-null  float64\n",
      " 42  StatePct_DE        11790432 non-null  float64\n",
      " 43  StatePct_FL        11790432 non-null  float64\n",
      " 44  StatePct_GA        11790432 non-null  float64\n",
      " 45  StatePct_GU        11790432 non-null  float64\n",
      " 46  StatePct_HI        11790432 non-null  float64\n",
      " 47  StatePct_IA        11790432 non-null  float64\n",
      " 48  StatePct_ID        11790432 non-null  float64\n",
      " 49  StatePct_IL        11790432 non-null  float64\n",
      " 50  StatePct_IN        11790432 non-null  float64\n",
      " 51  StatePct_KS        11790432 non-null  float64\n",
      " 52  StatePct_KY        11790432 non-null  float64\n",
      " 53  StatePct_LA        11790432 non-null  float64\n",
      " 54  StatePct_MA        11790432 non-null  float64\n",
      " 55  StatePct_MD        11790432 non-null  float64\n",
      " 56  StatePct_ME        11790432 non-null  float64\n",
      " 57  StatePct_MI        11790432 non-null  float64\n",
      " 58  StatePct_MN        11790432 non-null  float64\n",
      " 59  StatePct_MO        11790432 non-null  float64\n",
      " 60  StatePct_MS        11790432 non-null  float64\n",
      " 61  StatePct_MT        11790432 non-null  float64\n",
      " 62  StatePct_NC        11790432 non-null  float64\n",
      " 63  StatePct_ND        11790432 non-null  float64\n",
      " 64  StatePct_NE        11790432 non-null  float64\n",
      " 65  StatePct_NH        11790432 non-null  float64\n",
      " 66  StatePct_NJ        11790432 non-null  float64\n",
      " 67  StatePct_NM        11790432 non-null  float64\n",
      " 68  StatePct_NV        11790432 non-null  float64\n",
      " 69  StatePct_NY        11790432 non-null  float64\n",
      " 70  StatePct_OH        11790432 non-null  float64\n",
      " 71  StatePct_OK        11790432 non-null  float64\n",
      " 72  StatePct_OR        11790432 non-null  float64\n",
      " 73  StatePct_PA        11790432 non-null  float64\n",
      " 74  StatePct_PR        11790432 non-null  float64\n",
      " 75  StatePct_RI        11790432 non-null  float64\n",
      " 76  StatePct_SC        11790432 non-null  float64\n",
      " 77  StatePct_SD        11790432 non-null  float64\n",
      " 78  StatePct_TN        11790432 non-null  float64\n",
      " 79  StatePct_TX        11790432 non-null  float64\n",
      " 80  StatePct_UT        11790432 non-null  float64\n",
      " 81  StatePct_VA        11790432 non-null  float64\n",
      " 82  StatePct_VI        11790432 non-null  float64\n",
      " 83  StatePct_VT        11790432 non-null  float64\n",
      " 84  StatePct_WA        11790432 non-null  float64\n",
      " 85  StatePct_WI        11790432 non-null  float64\n",
      " 86  StatePct_WV        11790432 non-null  float64\n",
      " 87  StatePct_WY        11790432 non-null  float64\n",
      "dtypes: float64(81), int64(2), object(5)\n",
      "memory usage: 8.4+ GB\n"
     ]
    }
   ],
   "source": [
    "df.info(verbose=True, null_counts=True)"
   ]
  },
  {
   "cell_type": "code",
   "execution_count": 76,
   "metadata": {},
   "outputs": [],
   "source": [
    "seller_df.drop('poolno',axis=1,inplace=True)"
   ]
  },
  {
   "cell_type": "code",
   "execution_count": 77,
   "metadata": {},
   "outputs": [],
   "source": [
    "df = pd.merge(df,seller_df,on=['cusip','asofdate'],how='left')"
   ]
  },
  {
   "cell_type": "code",
   "execution_count": 78,
   "metadata": {},
   "outputs": [],
   "source": [
    "df.fillna(0,inplace=True)"
   ]
  },
  {
   "cell_type": "code",
   "execution_count": 79,
   "metadata": {},
   "outputs": [
    {
     "name": "stdout",
     "output_type": "stream",
     "text": [
      "<class 'pandas.core.frame.DataFrame'>\n",
      "Int64Index: 12954704 entries, 0 to 12954703\n",
      "Data columns (total 110 columns):\n",
      " #   Column              Non-Null Count     Dtype  \n",
      "---  ------              --------------     -----  \n",
      " 0   poolno              12954704 non-null  object \n",
      " 1   asofdate            12954704 non-null  int64  \n",
      " 2   cusip               12954704 non-null  object \n",
      " 3   spread              12954704 non-null  object \n",
      " 4   SMM                 12954704 non-null  float64\n",
      " 5   DayCount            12954704 non-null  float64\n",
      " 6   OBal                12954704 non-null  float64\n",
      " 7   CBal                12954704 non-null  float64\n",
      " 8   factor              12954704 non-null  float64\n",
      " 9   Coupon              12954704 non-null  float64\n",
      " 10  Wac                 12954704 non-null  float64\n",
      " 11  Wam                 12954704 non-null  float64\n",
      " 12  Age                 12954704 non-null  float64\n",
      " 13  aols                12954704 non-null  float64\n",
      " 14  waols               12954704 non-null  object \n",
      " 15  ONLoans             12954704 non-null  float64\n",
      " 16  cnloans             12954704 non-null  float64\n",
      " 17  CSato               12954704 non-null  float64\n",
      " 18  oltv                12954704 non-null  float64\n",
      " 19  cltv                12954704 non-null  float64\n",
      " 20  fico                12954704 non-null  float64\n",
      " 21  %CashWindow         12954704 non-null  float64\n",
      " 22  %Majors             12954704 non-null  object \n",
      " 23  ocltv               12954704 non-null  float64\n",
      " 24  ccltv               12954704 non-null  float64\n",
      " 25  PurpPct_purchase    12954704 non-null  float64\n",
      " 26  PurpPct_refi        12954704 non-null  float64\n",
      " 27  PctChannel_Broker   12954704 non-null  float64\n",
      " 28  PctChannel_Corr     12954704 non-null  float64\n",
      " 29  PctChannel_Retail   12954704 non-null  float64\n",
      " 30  OccPct_investor     12954704 non-null  float64\n",
      " 31  OccPct_owner        12954704 non-null  float64\n",
      " 32  PropUnitsPct_2-4    12954704 non-null  float64\n",
      " 33  pool_issue_month    12954704 non-null  int64  \n",
      " 34  StatePct_AK         12954704 non-null  float64\n",
      " 35  StatePct_AL         12954704 non-null  float64\n",
      " 36  StatePct_AR         12954704 non-null  float64\n",
      " 37  StatePct_AZ         12954704 non-null  float64\n",
      " 38  StatePct_CA         12954704 non-null  float64\n",
      " 39  StatePct_CO         12954704 non-null  float64\n",
      " 40  StatePct_CT         12954704 non-null  float64\n",
      " 41  StatePct_DC         12954704 non-null  float64\n",
      " 42  StatePct_DE         12954704 non-null  float64\n",
      " 43  StatePct_FL         12954704 non-null  float64\n",
      " 44  StatePct_GA         12954704 non-null  float64\n",
      " 45  StatePct_GU         12954704 non-null  float64\n",
      " 46  StatePct_HI         12954704 non-null  float64\n",
      " 47  StatePct_IA         12954704 non-null  float64\n",
      " 48  StatePct_ID         12954704 non-null  float64\n",
      " 49  StatePct_IL         12954704 non-null  float64\n",
      " 50  StatePct_IN         12954704 non-null  float64\n",
      " 51  StatePct_KS         12954704 non-null  float64\n",
      " 52  StatePct_KY         12954704 non-null  float64\n",
      " 53  StatePct_LA         12954704 non-null  float64\n",
      " 54  StatePct_MA         12954704 non-null  float64\n",
      " 55  StatePct_MD         12954704 non-null  float64\n",
      " 56  StatePct_ME         12954704 non-null  float64\n",
      " 57  StatePct_MI         12954704 non-null  float64\n",
      " 58  StatePct_MN         12954704 non-null  float64\n",
      " 59  StatePct_MO         12954704 non-null  float64\n",
      " 60  StatePct_MS         12954704 non-null  float64\n",
      " 61  StatePct_MT         12954704 non-null  float64\n",
      " 62  StatePct_NC         12954704 non-null  float64\n",
      " 63  StatePct_ND         12954704 non-null  float64\n",
      " 64  StatePct_NE         12954704 non-null  float64\n",
      " 65  StatePct_NH         12954704 non-null  float64\n",
      " 66  StatePct_NJ         12954704 non-null  float64\n",
      " 67  StatePct_NM         12954704 non-null  float64\n",
      " 68  StatePct_NV         12954704 non-null  float64\n",
      " 69  StatePct_NY         12954704 non-null  float64\n",
      " 70  StatePct_OH         12954704 non-null  float64\n",
      " 71  StatePct_OK         12954704 non-null  float64\n",
      " 72  StatePct_OR         12954704 non-null  float64\n",
      " 73  StatePct_PA         12954704 non-null  float64\n",
      " 74  StatePct_PR         12954704 non-null  float64\n",
      " 75  StatePct_RI         12954704 non-null  float64\n",
      " 76  StatePct_SC         12954704 non-null  float64\n",
      " 77  StatePct_SD         12954704 non-null  float64\n",
      " 78  StatePct_TN         12954704 non-null  float64\n",
      " 79  StatePct_TX         12954704 non-null  float64\n",
      " 80  StatePct_UT         12954704 non-null  float64\n",
      " 81  StatePct_VA         12954704 non-null  float64\n",
      " 82  StatePct_VI         12954704 non-null  float64\n",
      " 83  StatePct_VT         12954704 non-null  float64\n",
      " 84  StatePct_WA         12954704 non-null  float64\n",
      " 85  StatePct_WI         12954704 non-null  float64\n",
      " 86  StatePct_WV         12954704 non-null  float64\n",
      " 87  StatePct_WY         12954704 non-null  float64\n",
      " 88  SellerPct_AMRHT     12954704 non-null  float64\n",
      " 89  SellerPct_ALS       12954704 non-null  float64\n",
      " 90  SellerPct_CAFULL    12954704 non-null  float64\n",
      " 91  SellerPct_CNTL      12954704 non-null  float64\n",
      " 92  SellerPct_CITIZ     12954704 non-null  float64\n",
      " 93  SellerPct_53        12954704 non-null  float64\n",
      " 94  SellerPct_FIR       12954704 non-null  float64\n",
      " 95  SellerPct_FRDOM     12954704 non-null  float64\n",
      " 96  SellerPct_GUILD     12954704 non-null  float64\n",
      " 97  SellerPct_CHASE     12954704 non-null  float64\n",
      " 98  SellerPct_LLSL      12954704 non-null  float64\n",
      " 99  SellerPct_MATRX     12954704 non-null  float64\n",
      " 100 SellerPct_NCM       12954704 non-null  float64\n",
      " 101 SellerPct_NATIONST  12954704 non-null  float64\n",
      " 102 SellerPct_NRESM     12954704 non-null  float64\n",
      " 103 SellerPct_PNYMAC    12954704 non-null  float64\n",
      " 104 SellerPct_PILOSI    12954704 non-null  float64\n",
      " 105 SellerPct_QUICK     12954704 non-null  float64\n",
      " 106 SellerPct_REG       12954704 non-null  float64\n",
      " 107 SellerPct_RMSC      12954704 non-null  float64\n",
      " 108 SellerPct_UNSHFI    12954704 non-null  float64\n",
      " 109 SellerPct_WFHM      12954704 non-null  float64\n",
      "dtypes: float64(103), int64(2), object(5)\n",
      "memory usage: 10.7+ GB\n"
     ]
    }
   ],
   "source": [
    "df.info(verbose=True, null_counts=True)"
   ]
  },
  {
   "cell_type": "code",
   "execution_count": 88,
   "metadata": {},
   "outputs": [],
   "source": [
    "# dill.dump_session('../notebook_env__df.db')"
   ]
  },
  {
   "cell_type": "code",
   "execution_count": 82,
   "metadata": {},
   "outputs": [
    {
     "name": "stdout",
     "output_type": "stream",
     "text": [
      "df.shape = (12954704, 110)\n"
     ]
    }
   ],
   "source": [
    "print(f'df.shape = {df.shape}')"
   ]
  },
  {
   "cell_type": "code",
   "execution_count": 93,
   "metadata": {},
   "outputs": [
    {
     "name": "stdout",
     "output_type": "stream",
     "text": [
      "df.shape = (12954704, 110)\n"
     ]
    }
   ],
   "source": [
    "# Write df into a sequence of small files\n",
    "print(f'df.shape = {df.shape}')\n",
    "\n",
    "rows = df.shape[0]\n",
    "\n",
    "N = rows//30000 + 1\n",
    "\n",
    "for i in range(N):\n",
    "    df.iloc[i*30000:(i+1)*30000,].to_csv(f'../30y fixed rate data/fnm/conforming/clean data/pools_part{i+1}.csv',index=False)"
   ]
  },
  {
   "cell_type": "code",
   "execution_count": null,
   "metadata": {},
   "outputs": [],
   "source": []
  }
 ],
 "metadata": {
  "kernelspec": {
   "display_name": "Python 3",
   "language": "python",
   "name": "python3"
  },
  "language_info": {
   "codemirror_mode": {
    "name": "ipython",
    "version": 3
   },
   "file_extension": ".py",
   "mimetype": "text/x-python",
   "name": "python",
   "nbconvert_exporter": "python",
   "pygments_lexer": "ipython3",
   "version": "3.7.6"
  }
 },
 "nbformat": 4,
 "nbformat_minor": 2
}
